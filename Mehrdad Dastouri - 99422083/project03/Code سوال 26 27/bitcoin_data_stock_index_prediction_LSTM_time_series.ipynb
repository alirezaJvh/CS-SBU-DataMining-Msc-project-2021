{
  "nbformat": 4,
  "nbformat_minor": 0,
  "metadata": {
    "colab": {
      "name": "bitcoin_data_stock_index_prediction_LSTM_time_series.ipynb",
      "provenance": [],
      "collapsed_sections": []
    },
    "kernelspec": {
      "name": "python3",
      "display_name": "Python 3"
    },
    "language_info": {
      "name": "python"
    },
    "accelerator": "GPU"
  },
  "cells": [
    {
      "cell_type": "markdown",
      "metadata": {
        "id": "fh9vvOqHqoyp"
      },
      "source": [
        "# **read bitcoin data**"
      ]
    },
    {
      "cell_type": "code",
      "metadata": {
        "colab": {
          "base_uri": "https://localhost:8080/"
        },
        "id": "zSgYwZrhT5_U",
        "outputId": "e695f879-80e7-46a4-df8c-a4907045730a"
      },
      "source": [
        "import numpy as np\n",
        "import pandas as pd\n",
        "import matplotlib.pyplot as plt\n",
        "from sklearn.preprocessing import MinMaxScaler\n",
        "from sklearn.model_selection import train_test_split\n",
        "from sklearn.metrics import classification_report, confusion_matrix\n",
        "from sklearn.metrics import accuracy_score\n",
        "from collections import Counter\n",
        "import os\n",
        "from sklearn.preprocessing import OneHotEncoder\n",
        "from sklearn.impute import SimpleImputer\n",
        "from sklearn.preprocessing import StandardScaler\n",
        "from datetime import datetime\n",
        "from sklearn.metrics import r2_score\n",
        "from sklearn import metrics\n",
        "\n",
        "\n",
        "def read_bit_data(dataName):\n",
        "    df = pd.read_csv(dataName,thousands=',' ) #, sep='\\t',\n",
        "    return df\n",
        "\n",
        "\n",
        "#read bitcoin data\n",
        "bit_data_path=\"bitcoin_data.csv\"\n",
        "bit_data=read_bit_data(bit_data_path)\n",
        "\n",
        "#change date column format\n",
        "bit_data[\"Date\"]=bit_data[\"Date\"].apply(lambda date:datetime.strptime(date, '%b %d, %Y').strftime('%Y-%m-%d')) \n",
        "\n",
        "\n",
        "\n",
        "#preprocess data\n",
        "bit_data[\"Price\"]=pd.to_numeric(bit_data[\"Price\"])\n",
        "\n",
        "\n",
        "bit_data[\"Vol.\"]=bit_data[\"Vol.\"].apply(lambda x:x.split(sep=\"K\")[0] )\n",
        "bit_data[\"Vol.\"]=bit_data[\"Vol.\"].apply(lambda x:x.split(sep=\"M\")[0])\n",
        "bit_data.drop(bit_data[bit_data[\"Vol.\"]==\"-\"].index,inplace=True)\n",
        "bit_data[\"Vol.\"]=bit_data[\"Vol.\"].apply(lambda x: float(x) )\n",
        "bit_data[\"Change %\"]=bit_data[\"Change %\"].apply(lambda x:x.split(sep=\"%\")[0] )\n",
        "bit_data[\"Change %\"]=bit_data[\"Change %\"].apply(lambda x: float(x) )\n",
        "\n",
        "\n",
        "#Split data into train and test sets\n",
        "train_data_idx=bit_data.index[bit_data[\"Date\"]==\"2020-01-01\"].tolist()[0]\n",
        "bit_data.drop(\"Date\",axis=1,inplace=True)\n",
        "\n",
        "scaler = MinMaxScaler()\n",
        "scaler.fit(bit_data)\n",
        "bit_data_normalized=scaler.transform(np.array(bit_data))\n",
        "bit_data_normalized=pd.DataFrame(data=bit_data_normalized,columns=bit_data.columns)\n",
        "bit_data_label=bit_data[\"Price\"].values\n",
        "bit_data_label=np.array(bit_data_label)\n",
        "\n",
        "bit_train_data=bit_data_normalized.iloc[train_data_idx:,:]\n",
        "bit_train_label=bit_train_data[\"Price\"].values\n",
        "bit_train_data.drop(\"Price\",axis=1,inplace=True)\n",
        "bit_test_data=bit_data_normalized.iloc[:train_data_idx,:]\n",
        "bit_test_label=bit_test_data[\"Price\"].values\n",
        "bit_test_data.drop(\"Price\",axis=1,inplace=True)\n",
        "bit_train_data=np.array(bit_train_data)\n",
        "bit_test_data=np.array(bit_test_data)\n",
        "bit_train_label=np.array(bit_train_label)\n",
        "bit_test_label=np.array(bit_test_label)\n",
        "print(bit_train_data.shape)\n",
        "print(bit_test_data.shape)\n",
        "\n"
      ],
      "execution_count": 1,
      "outputs": [
        {
          "output_type": "stream",
          "text": [
            "(3449, 5)\n",
            "(486, 5)\n"
          ],
          "name": "stdout"
        },
        {
          "output_type": "stream",
          "text": [
            "/usr/local/lib/python3.7/dist-packages/pandas/core/frame.py:4174: SettingWithCopyWarning: \n",
            "A value is trying to be set on a copy of a slice from a DataFrame\n",
            "\n",
            "See the caveats in the documentation: https://pandas.pydata.org/pandas-docs/stable/user_guide/indexing.html#returning-a-view-versus-a-copy\n",
            "  errors=errors,\n"
          ],
          "name": "stderr"
        }
      ]
    },
    {
      "cell_type": "markdown",
      "metadata": {
        "id": "q6YZkkUSrzYk"
      },
      "source": [
        "# **create CNN Model**"
      ]
    },
    {
      "cell_type": "code",
      "metadata": {
        "id": "R40oPTUqVACW"
      },
      "source": [
        "import tensorflow\n",
        "from tensorflow import keras\n",
        "\n",
        "input_layer=keras.layers.Input(shape=(bit_train_data.shape[1],1),name=\"input_layer\")\n",
        "model=keras.models.Sequential([input_layer,\n",
        "                                keras.layers.Conv1D(filters=16,kernel_size=(1),padding=\"same\",name=\"conv1\"),\n",
        "                                keras.layers.MaxPool1D(pool_size=(2),name=\"maxpool1\"),\n",
        "                                keras.layers.Conv1D(filters=8,kernel_size=(1),padding=\"same\",name=\"conv2\"),\n",
        "                                keras.layers.Flatten(),\n",
        "                                keras.layers.Dense(200,activation=\"relu\",name=\"dens1\"),\n",
        "                                keras.layers.Dense(100,activation=\"relu\",name=\"dens2\"),\n",
        "                                keras.layers.Dense(20,activation=\"relu\",name=\"dens3\"),\n",
        "                                keras.layers.Dense(1,activation=\"sigmoid\",name=\"out_layer\")\n",
        "                                \n",
        "                                ]\n",
        "                                )"
      ],
      "execution_count": 2,
      "outputs": []
    },
    {
      "cell_type": "markdown",
      "metadata": {
        "id": "v569pALqr1_b"
      },
      "source": [
        "# **compile model**"
      ]
    },
    {
      "cell_type": "code",
      "metadata": {
        "id": "GoEXNOEFVDQx"
      },
      "source": [
        "model.compile(optimizer=\"Adam\",loss=keras.losses.mean_squared_error,metrics=tensorflow.metrics.RootMeanSquaredError())\n",
        "model.summary()\n",
        "keras.utils.plot_model(model)"
      ],
      "execution_count": null,
      "outputs": []
    },
    {
      "cell_type": "markdown",
      "metadata": {
        "id": "NsTdOR4ur_je"
      },
      "source": [
        "# **fit and train model**"
      ]
    },
    {
      "cell_type": "code",
      "metadata": {
        "id": "ebIdP4cYVMFD"
      },
      "source": [
        "data_train_reshaped=bit_train_data.reshape((bit_train_data.shape[0],bit_train_data.shape[1],1))\n",
        "model.fit(data_train_reshaped,bit_train_label,epochs=10 ,batch_size=100)\n"
      ],
      "execution_count": null,
      "outputs": []
    },
    {
      "cell_type": "markdown",
      "metadata": {
        "id": "DD5aMGF3GAuK"
      },
      "source": [
        "# **test model**"
      ]
    },
    {
      "cell_type": "code",
      "metadata": {
        "id": "ouWHKDqiF-P7",
        "colab": {
          "base_uri": "https://localhost:8080/"
        },
        "outputId": "34746aed-eb0c-4814-e8af-4adcc28f8f0f"
      },
      "source": [
        "\n",
        "def get_acc(y_real,y_pred):\n",
        "   y_real=np.array(y_real).reshape(-1)\n",
        "   y_pred=np.array(y_pred).reshape(-1)\n",
        "   diff=np.abs(y_real-y_pred)\n",
        "   threshold=np.abs(0.1*y_real)\n",
        "   true_inst=diff[diff<threshold]\n",
        "   acc=(len(true_inst)/len(y_pred))*100\n",
        "   return acc\n",
        "\n",
        "print('--------test------')\n",
        "data_test_reshaped=bit_test_data.reshape((bit_test_data.shape[0],bit_train_data.shape[1],1))\n",
        "y_pred=model.predict(data_test_reshaped,verbose=2)\n",
        "mse=metrics.mean_squared_error(bit_test_label, y_pred)\n",
        "rmse=metrics.mean_squared_error(bit_test_label, y_pred,squared=False)\n",
        "mae= metrics.mean_absolute_error(bit_test_label,y_pred)\n",
        "r2=r2_score(bit_test_label, y_pred)\n",
        "print('Mean squared error (MSE): %.3f ' % mse)  \n",
        "print('Root mean square error (RMSE) : %.3f '%rmse) \n",
        "print('Mean Absolute Error (MAE): %.3f'%mae)\n",
        "print('R2 score : %.2f ' %r2 )\n",
        "acc=get_acc(bit_test_label, y_pred)\n",
        "print(\"Accuracy is: %.3f\" %acc)\n",
        "out=np.array([round(mse,3),round(rmse,3),round(mae,3),round(r2,3),round(acc,3)])\n",
        "np.savetxt(\"CNN_result.csv\",out.reshape(1,-1) , header=\"mse,rmse,mae,r2,accuracy\", delimiter=\",\")\n"
      ],
      "execution_count": 6,
      "outputs": [
        {
          "output_type": "stream",
          "text": [
            "--------test------\n",
            "16/16 - 0s\n",
            "Mean squared error (MSE): 0.016 \n",
            "Root mean square error (RMSE) : 0.127 \n",
            "Mean Absolute Error (MAE): 0.075\n",
            "R2 score : 0.78 \n",
            "Accuracy is: 34.568\n"
          ],
          "name": "stdout"
        }
      ]
    },
    {
      "cell_type": "markdown",
      "metadata": {
        "id": "0JqBRIHtVPfp"
      },
      "source": [
        "# **create LSTM model**"
      ]
    },
    {
      "cell_type": "code",
      "metadata": {
        "id": "jHhLpWWyVU1p"
      },
      "source": [
        "model = keras.models.Sequential()\n",
        "model.add(keras.layers.LSTM(units=100,return_sequences=True,  input_shape=(1,bit_train_data.shape[1])))\n",
        "model.add(keras.layers.LSTM(units=100, return_sequences=True,activation=\"relu\"))\n",
        "model.add(keras.layers.LSTM(units=100,activation=\"relu\"))\n",
        "model.add(keras.layers.Dense(units=1 ))\n",
        "model.compile(optimizer=\"Adam\",loss=keras.losses.mean_squared_error,metrics=tensorflow.metrics.RootMeanSquaredError())\n",
        "model.summary()\n",
        "keras.utils.plot_model(model)\n",
        "\n",
        "\n"
      ],
      "execution_count": null,
      "outputs": []
    },
    {
      "cell_type": "code",
      "metadata": {
        "id": "IdXKQOvAVYUd"
      },
      "source": [
        "data_train_reshaped=bit_train_data.reshape((bit_train_data.shape[0],1,bit_train_data.shape[1] ))\n",
        "\n",
        "model.fit(data_train_reshaped,bit_train_label,epochs=100,)\n"
      ],
      "execution_count": null,
      "outputs": []
    },
    {
      "cell_type": "markdown",
      "metadata": {
        "id": "UXB4slsmRdU5"
      },
      "source": [
        "# **test model**"
      ]
    },
    {
      "cell_type": "code",
      "metadata": {
        "colab": {
          "base_uri": "https://localhost:8080/"
        },
        "id": "OxCyOk7TRes9",
        "outputId": "cf89efbc-2e64-408f-df1f-932026e33869"
      },
      "source": [
        "def get_acc(y_real,y_pred):\n",
        "   y_real=np.array(y_real).reshape(-1)\n",
        "   y_pred=np.array(y_pred).reshape(-1)\n",
        "   diff=np.abs(y_real-y_pred)\n",
        "   threshold=np.abs(0.1*y_real)\n",
        "   true_inst=diff[diff<threshold]\n",
        "   acc=(len(true_inst)/len(y_pred))*100\n",
        "   return acc\n",
        "\n",
        "bit_test_data_reshaped=bit_test_data.reshape((bit_test_data.shape[0],1,bit_test_data.shape[1] ))\n",
        "y_pred=model.predict(bit_test_data_reshaped,verbose=2)\n",
        "mse=metrics.mean_squared_error(bit_test_label, y_pred)\n",
        "rmse=metrics.mean_squared_error(bit_test_label, y_pred,squared=False)\n",
        "mae= metrics.mean_absolute_error(bit_test_label,y_pred)\n",
        "r2=r2_score(bit_test_label, y_pred)\n",
        "print('Mean squared error (MSE): %.3f ' % mse)  \n",
        "print('Root mean square error (RMSE) : %.3f '%rmse) \n",
        "print('Mean Absolute Error (MAE): %.3f'%mae)\n",
        "print('R2 score : %.2f ' %r2 )\n",
        "acc=get_acc(bit_test_label, y_pred)\n",
        "print(\"Accuracy is: %.3f\" %acc)\n",
        "out=np.array([round(mse,3),round(rmse,3),round(mae,3),round(r2,3),round(acc,3)])\n",
        "np.savetxt(\"LSTM_result.csv\",out.reshape(1,-1) , header=\"mse,rmse,mae,r2,accuracy\", delimiter=\",\")\n"
      ],
      "execution_count": 11,
      "outputs": [
        {
          "output_type": "stream",
          "text": [
            "16/16 - 1s\n",
            "Mean squared error (MSE): 0.004 \n",
            "Root mean square error (RMSE) : 0.060 \n",
            "Mean Absolute Error (MAE): 0.028\n",
            "R2 score : 0.95 \n",
            "Accuracy is: 82.099\n"
          ],
          "name": "stdout"
        }
      ]
    },
    {
      "cell_type": "markdown",
      "metadata": {
        "id": "k6BNwilYQ-A7"
      },
      "source": [
        "# **predict price variation**"
      ]
    },
    {
      "cell_type": "code",
      "metadata": {
        "id": "tPSNYp25Q92H",
        "colab": {
          "base_uri": "https://localhost:8080/"
        },
        "outputId": "d45eeff4-321e-4aad-e861-aa730b5461a9"
      },
      "source": [
        "variation=[]\n",
        "# variation.append(1)\n",
        "for i in range(1,len(bit_data)):\n",
        "    if (bit_data.iloc[i-1,0]>bit_data.iloc[i,0]):\n",
        "        variation.append(1)\n",
        "    # elif (bit_data.iloc[i-1,0]==bit_data.iloc[i,0]):\n",
        "    #     variation.append(0)\n",
        "    else:\n",
        "      variation.append(0)\n",
        "variation.append(0)   \n",
        "bit_data[\"variation\"]=variation\n",
        "print(bit_data)"
      ],
      "execution_count": 12,
      "outputs": [
        {
          "output_type": "stream",
          "text": [
            "        Price     Open     High      Low    Vol.  Change %  variation\n",
            "0     57807.1  57719.1  58449.4  57029.5   63.41      0.15          1\n",
            "1     57720.3  53562.3  57925.6  53088.7  103.74      7.77          1\n",
            "2     53560.8  54838.6  55173.7  52400.0   83.90     -2.34          0\n",
            "3     54841.4  55036.0  56419.9  53876.4   86.96     -0.35          0\n",
            "4     55036.5  54011.1  55427.8  53345.0   84.08      1.88          1\n",
            "...       ...      ...      ...      ...     ...       ...        ...\n",
            "3936      0.1      0.1      0.1      0.1    2.16      0.00          0\n",
            "3937      0.1      0.1      0.1      0.1    0.58      0.00          0\n",
            "3938      0.1      0.1      0.1      0.1    0.26      0.00          0\n",
            "3939      0.1      0.1      0.1      0.1    0.57      0.00          0\n",
            "3940      0.1      0.0      0.1      0.1    0.08      0.00          0\n",
            "\n",
            "[3935 rows x 7 columns]\n"
          ],
          "name": "stdout"
        }
      ]
    },
    {
      "cell_type": "markdown",
      "metadata": {
        "id": "S9Z8QDxt6plj"
      },
      "source": [
        "# **predict price at next step**"
      ]
    },
    {
      "cell_type": "code",
      "metadata": {
        "id": "78MTcvqI7l2A",
        "colab": {
          "base_uri": "https://localhost:8080/"
        },
        "outputId": "d64e6f3c-c967-48d8-fabc-12409bb4a9cb"
      },
      "source": [
        "bit_data_label=bit_data[\"variation\"].values\n",
        "bit_data_label=np.array(bit_data_label)\n",
        "\n",
        "scaler = MinMaxScaler()\n",
        "scaler.fit(bit_data)\n",
        "bit_data_normalized=scaler.transform(np.array(bit_data))\n",
        "bit_data_normalized=pd.DataFrame(data=bit_data_normalized,columns=bit_data.columns)\n",
        "bit_data_normalized.drop(\"variation\",inplace=True,axis=1)\n",
        "\n",
        "bit_train_data=bit_data_normalized.iloc[train_data_idx:,:]\n",
        "bit_test_data=bit_data_normalized.iloc[:train_data_idx,:]\n",
        "bit_train_data=np.array(bit_train_data)\n",
        "bit_test_data=np.array(bit_test_data)\n",
        "bit_train_label=bit_data_label[train_data_idx:]\n",
        "bit_test_label=bit_data_label[:train_data_idx]\n",
        "bit_train_label=np.array(bit_train_label)\n",
        "bit_test_label=np.array(bit_test_label)\n",
        "print(bit_train_data.shape)\n",
        "print(bit_test_data.shape)\n",
        "nfeature=bit_data_normalized.shape[1]\n",
        " \n"
      ],
      "execution_count": 23,
      "outputs": [
        {
          "output_type": "stream",
          "text": [
            "(3449, 6)\n",
            "(486, 6)\n"
          ],
          "name": "stdout"
        }
      ]
    },
    {
      "cell_type": "code",
      "metadata": {
        "id": "DRoVeBkdU1rJ"
      },
      "source": [
        ""
      ],
      "execution_count": null,
      "outputs": []
    },
    {
      "cell_type": "code",
      "metadata": {
        "id": "JKskIn_a64cX"
      },
      "source": [
        "model = keras.models.Sequential()\n",
        "model.add(keras.layers.LSTM(units=100,return_sequences=True,  input_shape=(1,bit_train_data.shape[1])))\n",
        "model.add(keras.layers.LSTM(units=100,activation=\"relu\"))\n",
        "model.add(keras.layers.Flatten())\n",
        "model.add(keras.layers.Dense(units=500,activation=\"relu\"))\n",
        "model.add(keras.layers.Dense(units=300,activation=\"relu\"))\n",
        "model.add(keras.layers.Dense(units=1,activation=\"sigmoid\"))\n",
        "model.compile(optimizer=\"adam\",loss=keras.losses.binary_crossentropy,metrics=[\"Accuracy\"])\n",
        "model.summary()\n",
        "keras.utils.plot_model(model)\n",
        "\n"
      ],
      "execution_count": null,
      "outputs": []
    },
    {
      "cell_type": "code",
      "metadata": {
        "id": "hHgoLY9v8ds9"
      },
      "source": [
        "data_train_reshaped=bit_train_data.reshape((bit_train_data.shape[0],1,bit_train_data.shape[1] ))\n",
        "model.fit(data_train_reshaped,bit_train_label,epochs=300)"
      ],
      "execution_count": null,
      "outputs": []
    },
    {
      "cell_type": "code",
      "metadata": {
        "colab": {
          "base_uri": "https://localhost:8080/"
        },
        "id": "BItrnrAlUPoo",
        "outputId": "d7e8a30e-3945-494a-9b55-4b180488bedb"
      },
      "source": [
        "data_train_reshaped[0],bit_train_label[0]"
      ],
      "execution_count": 35,
      "outputs": [
        {
          "output_type": "execute_result",
          "data": {
            "text/plain": [
              "(array([[0.1133083 , 0.1132503 , 0.11206445, 0.11568051, 0.42043124,\n",
              "         0.14531151]]), 1)"
            ]
          },
          "metadata": {
            "tags": []
          },
          "execution_count": 35
        }
      ]
    },
    {
      "cell_type": "markdown",
      "metadata": {
        "id": "vgW05gar40eW"
      },
      "source": [
        "# **Tournement data prediction**"
      ]
    },
    {
      "cell_type": "code",
      "metadata": {
        "id": "O1ysK9LPPnw_"
      },
      "source": [
        "from google.colab import drive\n",
        "drive.mount('/content/drive')"
      ],
      "execution_count": null,
      "outputs": []
    },
    {
      "cell_type": "code",
      "metadata": {
        "id": "hqS1Bobgu3xj"
      },
      "source": [
        "!gdown https://drive.google.com/u/0/uc?id=1UOqwSFd29zw8cuYb6EAf9XiM9ZGPLrqB&export=download\n",
        "!mv Dataset\\ 26\\ 27.zip tournement_stock_data.zip"
      ],
      "execution_count": null,
      "outputs": []
    },
    {
      "cell_type": "code",
      "metadata": {
        "id": "_fzDxu_oIfUw"
      },
      "source": [
        "!unzip /content/stock_tournement_data.zip"
      ],
      "execution_count": null,
      "outputs": []
    },
    {
      "cell_type": "code",
      "metadata": {
        "id": "Y68BQ4qr5xR8",
        "colab": {
          "base_uri": "https://localhost:8080/"
        },
        "outputId": "ffd9a604-1c30-45bb-ee6e-ab4fe22f927d"
      },
      "source": [
        "\n",
        "from sklearn.linear_model import LinearRegression\n",
        "from sklearn.metrics import r2_score\n",
        "from sklearn import metrics\n",
        "from sklearn.linear_model import LogisticRegression\n",
        "from sklearn.linear_model import Ridge\n",
        "from sklearn import linear_model\n",
        "from sklearn.tree import DecisionTreeRegressor\n",
        "from sklearn.neural_network import MLPRegressor\n",
        "from sklearn.ensemble import RandomForestRegressor\n",
        "from sklearn.ensemble import BaggingRegressor\n",
        "from sklearn.ensemble import VotingRegressor\n",
        "from sklearn.ensemble import GradientBoostingRegressor\n",
        "import numpy as np\n",
        "import pandas as pd\n",
        "from sklearn.svm import SVC\n",
        "import matplotlib.pyplot as plt\n",
        "from sklearn.preprocessing import MinMaxScaler\n",
        "from sklearn.model_selection import train_test_split\n",
        "from sklearn.decomposition import PCA\n",
        "from sklearn.model_selection import KFold\n",
        "from sklearn.metrics import classification_report, confusion_matrix\n",
        "from sklearn.metrics import accuracy_score\n",
        "from mlxtend.plotting import plot_confusion_matrix\n",
        "from collections import Counter\n",
        "import os\n",
        "from sklearn.preprocessing import OneHotEncoder\n",
        "from sklearn.impute import SimpleImputer\n",
        "from sklearn.preprocessing import StandardScaler\n",
        "from xgboost import XGBRegressor\n",
        "\n",
        "from sklearn import metrics\n",
        "\n",
        "\n",
        "def read_tournement_data():\n",
        "  chunk_size=20000\n",
        "  batch_no=1\n",
        "  for chunk in pd.read_csv('tournament_data.csv',chunksize=chunk_size,index_col=\"id\"):\n",
        "      chunk.to_csv('chunk_tournament.csv',index=False)\n",
        "      batch_no+=1\n",
        "      break\n",
        "\n",
        "\n",
        "def read_train_data():\n",
        "  chunk_size=30000\n",
        "  batch_no=1\n",
        "  for chunk in pd.read_csv('training_data.csv',chunksize=chunk_size,index_col=\"id\"):\n",
        "      chunk.to_csv('chunk_train.csv',index=False)\n",
        "      batch_no+=1\n",
        "      break\n",
        " \n",
        "\n",
        "def get_acc(y_real,y_pred):\n",
        "   y_real=np.array(y_real).reshape(-1)\n",
        "   y_pred=np.array(y_pred).reshape(-1)\n",
        "   diff=np.abs(y_real-y_pred)\n",
        "   threshold=np.abs(0.1*y_real)\n",
        "   true_inst=diff[diff<threshold]\n",
        "   acc=(len(true_inst)/len(y_pred))*100\n",
        "   return acc\n",
        "\n",
        "\n",
        "def save_results(f_name,y_pred,test_label):\n",
        "  np.savetxt(f_name+\"_predictions.csv\",y_pred,delimiter=\",\")\n",
        "  mse=metrics.mean_squared_error(test_label, y_pred)\n",
        "  rmse=metrics.mean_squared_error(test_label, y_pred,squared=False)\n",
        "  mae= metrics.mean_absolute_error(test_label,y_pred)\n",
        "  r2=metrics.r2_score(test_label, y_pred)\n",
        "  print('Mean squared error (MSE): %.3f ' % mse)  \n",
        "  print('Root mean square error (RMSE) : %.3f '%rmse) \n",
        "  print('Mean Absolute Error (MAE): %.3f'%mae)\n",
        "  print('R2 score : %.2f ' %r2 )\n",
        "  acc=get_acc(test_label, y_pred)\n",
        "  print(\"Accuracy is: %.3f\" %acc)\n",
        "  out=np.array([round(mse,3),round(rmse,3),round(mae,3),round(r2,3),round(acc,3)])\n",
        "  np.savetxt(f_name+\"_results.csv\",out.reshape(1,-1) , header=\"mse,rmse,mae,r2,accuracy\", delimiter=\",\")  \n",
        " \n",
        " \n",
        "\n",
        "#read stock data\n",
        "read_train_data()\n",
        "training_data=pd.read_csv(\"chunk_train.csv\")\n",
        "training_label=training_data[\"target\"]\n",
        "read_tournement_data()\n",
        "tournament_data=pd.read_csv(\"chunk_tournament.csv\")\n",
        "tournament_label=tournament_data[\"target\"]\n",
        "training_label=np.array(training_label)\n",
        "tournament_label=np.array(tournament_label)\n",
        "\n",
        "\n",
        "\n",
        "training_data=training_data.drop(\"target\",axis=1)\n",
        "tournament_data=tournament_data.drop(\"target\", axis=1)\n",
        " \n",
        "\n",
        "#categorical features encoding\n",
        "from sklearn.preprocessing import OrdinalEncoder\n",
        "training_data_cat= training_data.select_dtypes(exclude=[\"number\"])\n",
        "enc = OrdinalEncoder()\n",
        "enc.fit(training_data_cat)\n",
        "training_data_cat=enc.transform(training_data_cat)\n",
        "training_data[\"era\"]=training_data_cat[:,0]\n",
        "training_data[\"data_type\"]=training_data_cat[:,1]\n",
        "\n",
        "tournament_data_cat= tournament_data.select_dtypes(exclude=[\"number\"])\n",
        "enc = OrdinalEncoder()\n",
        "enc.fit(tournament_data_cat)\n",
        "tournament_data_cat=enc.transform(tournament_data_cat)\n",
        "tournament_data[\"era\"]=tournament_data_cat[:,0]\n",
        "tournament_data[\"data_type\"]=tournament_data_cat[:,1]\n",
        "\n",
        "\n",
        "print(\"XGB is starting\")\n",
        "xgb_model=XGBRegressor(booster=\"gblinear\",max_depth=5,learning_rate=0.01,n_estimators=2000,colsample_bytree=0.1  )\n",
        "xgb_model.fit(training_data,training_label)\n",
        "predictions=xgb_model.predict(tournament_data)\n",
        " \n",
        "save_results(\"XGB\",predictions,tournament_label)\n",
        "\n",
        "\n",
        "print(\"Linear Regression is starting\")\n",
        "lin_reg_model=LinearRegression()\n",
        "lin_reg_model.fit(training_data,training_label)\n",
        "predictions=lin_reg_model.predict(tournament_data)\n",
        "save_results(\"linear_regression\",predictions,tournament_label)\n",
        "\n",
        "print(\"Ridge Regression is starting\")\n",
        "Ridge(alpha=1.0)\n",
        "lin_reg_model=LinearRegression()\n",
        "lin_reg_model.fit(training_data,training_label)\n",
        "predictions=lin_reg_model.predict(tournament_data)\n",
        "save_results(\"Ridge_regression\",predictions,tournament_label)\n",
        " "
      ],
      "execution_count": 21,
      "outputs": [
        {
          "output_type": "stream",
          "text": [
            "XGB is starting\n",
            "[11:28:20] WARNING: /workspace/src/objective/regression_obj.cu:152: reg:linear is now deprecated in favor of reg:squarederror.\n",
            "Mean squared error (MSE): 0.050 \n",
            "Root mean square error (RMSE) : 0.223 \n",
            "Mean Absolute Error (MAE): 0.152\n",
            "R2 score : 0.00 \n",
            "Accuracy is: 50.205\n",
            "Linear Regression is starting\n",
            "Mean squared error (MSE): 0.051 \n",
            "Root mean square error (RMSE) : 0.225 \n",
            "Mean Absolute Error (MAE): 0.162\n",
            "R2 score : -0.02 \n",
            "Accuracy is: 44.520\n",
            "Ridge Regression is starting\n",
            "Mean squared error (MSE): 0.051 \n",
            "Root mean square error (RMSE) : 0.225 \n",
            "Mean Absolute Error (MAE): 0.162\n",
            "R2 score : -0.02 \n",
            "Accuracy is: 44.520\n"
          ],
          "name": "stdout"
        }
      ]
    },
    {
      "cell_type": "markdown",
      "metadata": {
        "id": "bxPRnHz4B8pc"
      },
      "source": [
        "# **Enseble models**"
      ]
    },
    {
      "cell_type": "code",
      "metadata": {
        "id": "vA9TsvtLCIpT",
        "colab": {
          "base_uri": "https://localhost:8080/"
        },
        "outputId": "c81867c6-922b-4509-a7ff-a21b8a9947bb"
      },
      "source": [
        "def bagging_regression_func(train_data,test_data,train_label,test_label ):\n",
        "    print(\"------------ bagging regression is starting-------------- \")\n",
        "    regr =BaggingRegressor(n_estimators=300, random_state=0)\n",
        "    regr.fit(train_data, train_label)\n",
        "    y_pred = regr.predict(test_data)\n",
        "    mse=metrics.mean_squared_error(test_label, y_pred)\n",
        "    rmse=metrics.mean_squared_error(test_label, y_pred,squared=False)\n",
        "    mae= metrics.mean_absolute_error(test_label,y_pred)\n",
        "    r2=r2_score(test_label, y_pred)\n",
        "    print('Mean squared error (MSE): %.3f ' % mse)  \n",
        "    print('Root mean square error (RMSE) : %.3f '%rmse) \n",
        "    print('Mean Absolute Error (MAE): %.3f'%mae)\n",
        "    print('R2 score : %.2f ' %r2 )\n",
        "    acc=get_acc(test_label, y_pred)\n",
        "    print(\"Accuracy is: %.3f\" %acc)\n",
        "    out=np.array([round(mse,3),round(rmse,3),round(mae,3),round(r2,3),round(acc,3)])\n",
        "    np.savetxt(\"tournement/bagging_regression_result_on_tournement.csv\",out.reshape(1,-1) , header=\"mse,rmse,mae,r2,accuracy\", delimiter=\",\")  \n",
        "    return y_pred\n",
        "\n",
        "def voting_regression_func_lin(train_data,test_data,train_label,test_label ):\n",
        "    print(\"------------voting regression is starting-------------- \")\n",
        "    r1 = LinearRegression()\n",
        "    r2 = RandomForestRegressor(n_estimators=10, random_state=1)\n",
        "    regr = VotingRegressor([('lr', r1), ('rf', r2)])\n",
        "    regr.fit(train_data, train_label)\n",
        "    y_pred = regr.predict(test_data)\n",
        "    mse=metrics.mean_squared_error(test_label, y_pred)\n",
        "    rmse=metrics.mean_squared_error(test_label, y_pred,squared=False)\n",
        "    mae= metrics.mean_absolute_error(test_label,y_pred)\n",
        "    r2=r2_score(test_label, y_pred)\n",
        "    print('Mean squared error (MSE): %.3f ' % mse)  \n",
        "    print('Root mean square error (RMSE) : %.3f '%rmse) \n",
        "    print('Mean Absolute Error (MAE): %.3f'%mae)\n",
        "    print('R2 score : %.2f ' %r2 )\n",
        "    acc=get_acc(test_label, y_pred)\n",
        "    print(\"Accuracy is: %.3f\" %acc)\n",
        "    out=np.array([round(mse,3),round(rmse,3),round(mae,3),round(r2,3),round(acc,3)])\n",
        "    np.savetxt(\"tournement/voting_with_linear_randomForest_on_tournement.csv\",out.reshape(1,-1) , header=\"mse,rmse,mae,r2,accuracy\", delimiter=\",\")  \n",
        "    return y_pred\n",
        "\n",
        "\n",
        "def voting_regression_func_mlp(train_data,test_data,train_label,test_label ):\n",
        "    print(\"------------voting regression is starting-------------- \")\n",
        "    r1=MLPRegressor(random_state=1, max_iter=300)\n",
        "    r2 = RandomForestRegressor(n_estimators=10, random_state=1)\n",
        "    regr = VotingRegressor([('lr', r1), ('rf', r2)])\n",
        "    regr.fit(train_data, train_label)\n",
        "    y_pred = regr.predict(test_data)\n",
        "    mse=metrics.mean_squared_error(test_label, y_pred)\n",
        "    rmse=metrics.mean_squared_error(test_label, y_pred,squared=False)\n",
        "    mae= metrics.mean_absolute_error(test_label,y_pred)\n",
        "    r2=r2_score(test_label, y_pred)\n",
        "    print('Mean squared error (MSE): %.3f ' % mse)  \n",
        "    print('Root mean square error (RMSE) : %.3f '%rmse) \n",
        "    print('Mean Absolute Error (MAE): %.3f'%mae)\n",
        "    print('R2 score : %.2f ' %r2 )\n",
        "    acc=get_acc(test_label, y_pred)\n",
        "    print(\"Accuracy is: %.3f\" %acc)\n",
        "    out=np.array([round(mse,3),round(rmse,3),round(mae,3),round(r2,3),round(acc,3)])\n",
        "    np.savetxt(\"tournement/voting_with_mlp_randomForest_on_tournement.csv\",out.reshape(1,-1) , header=\"mse,rmse,mae,r2,accuracy\", delimiter=\",\")  \n",
        "    return y_pred\n",
        "\n",
        "\n",
        "def boosting_regression_func_Gr(train_data,test_data,train_label,test_label ):\n",
        "    print(\"------------boosting regression is starting-------------- \")\n",
        " \n",
        "    regr =GradientBoostingRegressor(random_state=0)\n",
        "    regr.fit(train_data, train_label)\n",
        "    y_pred = regr.predict(test_data)\n",
        "    mse=metrics.mean_squared_error(test_label, y_pred)\n",
        "    rmse=metrics.mean_squared_error(test_label, y_pred,squared=False)\n",
        "    mae= metrics.mean_absolute_error(test_label,y_pred)\n",
        "    r2=r2_score(test_label, y_pred)\n",
        "    print('Mean squared error (MSE): %.3f ' % mse)  \n",
        "    print('Root mean square error (RMSE) : %.3f '%rmse) \n",
        "    print('Mean Absolute Error (MAE): %.3f'%mae)\n",
        "    print('R2 score : %.2f ' %r2 )\n",
        "    acc=get_acc(test_label, y_pred)\n",
        "    print(\"Accuracy is: %.3f\" %acc)\n",
        "    out=np.array([round(mse,3),round(rmse,3),round(mae,3),round(r2,3),round(acc,3)])\n",
        "    np.savetxt(\"tournement/boosting_with_GradientBoost_on_tournement.csv\",out.reshape(1,-1) , header=\"mse,rmse,mae,r2,accuracy\", delimiter=\",\")  \n",
        "    return y_pred\n",
        "\n",
        "def boosting_regression_func_DT(train_data,test_data,train_label,test_label ):\n",
        "    print(\"------------boosting regression is starting-------------- \")\n",
        " \n",
        "    regr =DecisionTreeRegressor(max_depth=7)\n",
        "    regr.fit(train_data, train_label)\n",
        "    y_pred = regr.predict(test_data)\n",
        "    mse=metrics.mean_squared_error(test_label, y_pred)\n",
        "    rmse=metrics.mean_squared_error(test_label, y_pred,squared=False)\n",
        "    mae= metrics.mean_absolute_error(test_label,y_pred)\n",
        "    r2=r2_score(test_label, y_pred)\n",
        "    print('Mean squared error (MSE): %.3f ' % mse)  \n",
        "    print('Root mean square error (RMSE) : %.3f '%rmse) \n",
        "    print('Mean Absolute Error (MAE): %.3f'%mae)\n",
        "    print('R2 score : %.2f ' %r2 )\n",
        "    acc=get_acc(test_label, y_pred)\n",
        "    print(\"Accuracy is: %.3f\" %acc)\n",
        "    out=np.array([round(mse,3),round(rmse,3),round(mae,3),round(r2,3),round(acc,3)])\n",
        "    np.savetxt(\"tournement/boosting_with_decision_tree_on_tournement.csv\",out.reshape(1,-1) , header=\"mse,rmse,mae,r2,accuracy\", delimiter=\",\")  \n",
        "    return y_pred\n",
        "bag_pred=bagging_regression_func(training_data,tournament_data,training_label,tournament_label)\n",
        "vot_lin_pred=voting_regression_func_lin(training_data,tournament_data,training_label,tournament_label)\n",
        "vot_mlp_pred=voting_regression_func_mlp(training_data,tournament_data,training_label,tournament_label)\n",
        "boost_gr_pred=boosting_regression_func_Gr(training_data,tournament_data,training_label,tournament_label)\n",
        "boost_dt_pred=boosting_regression_func_DT(training_data,tournament_data,training_label,tournament_label)"
      ],
      "execution_count": null,
      "outputs": [
        {
          "output_type": "stream",
          "text": [
            "------------voting regression is starting-------------- \n",
            "Mean squared error (MSE): 0.024 \n",
            "Root mean square error (RMSE) : 0.155 \n",
            "Mean Absolute Error (MAE): 0.112\n",
            "R2 score : 0.52 \n",
            "Accuracy is: 46.700\n",
            "------------voting regression is starting-------------- \n",
            "Mean squared error (MSE): 0.014 \n",
            "Root mean square error (RMSE) : 0.119 \n",
            "Mean Absolute Error (MAE): 0.090\n",
            "R2 score : 0.72 \n",
            "Accuracy is: 42.325\n",
            "------------boosting regression is starting-------------- \n",
            "Mean squared error (MSE): 0.048 \n",
            "Root mean square error (RMSE) : 0.220 \n",
            "Mean Absolute Error (MAE): 0.153\n",
            "R2 score : 0.03 \n",
            "Accuracy is: 49.920\n",
            "------------boosting regression is starting-------------- \n",
            "Mean squared error (MSE): 0.048 \n",
            "Root mean square error (RMSE) : 0.219 \n",
            "Mean Absolute Error (MAE): 0.156\n",
            "R2 score : 0.04 \n",
            "Accuracy is: 45.650\n"
          ],
          "name": "stdout"
        }
      ]
    },
    {
      "cell_type": "code",
      "metadata": {
        "colab": {
          "base_uri": "https://localhost:8080/"
        },
        "id": "OWNMGOUMGL40",
        "outputId": "3d237772-c1b4-475f-f206-f4ef4ccaf2d5"
      },
      "source": [
        "from scipy.stats import spearmanr\n",
        "def spearman_correlation(label,pred,desc):\n",
        " \n",
        "  coef, p = spearmanr(label, pred)\n",
        "  print(desc+'Spearmans correlation coefficient: %.3f' % coef)\n",
        "  # interpret the significance\n",
        "  alpha = 0.05\n",
        "  if p > alpha:\n",
        "    print('Samples are uncorrelated (fail to reject H0) p=%.3f' % p)\n",
        "  else:\n",
        "    print('Samples are correlated (reject H0) p=%.3f' % p)\n",
        "\n",
        "spearman_correlation(tournament_label,bag_pred,\"Bagging \")\n",
        "print(\"****************************************************\")\n",
        "spearman_correlation(tournament_label,vot_lin_pred,\"voting by linear \")\n",
        "print(\"****************************************************\")\n",
        "spearman_correlation(tournament_label,vot_mlp_pred,\"voting by mlp  \")\n",
        "print(\"****************************************************\")\n",
        "spearman_correlation(tournament_label,boost_gr_pred,\"boosting by gradient descent\")\n",
        "print(\"****************************************************\")\n",
        "spearman_correlation(tournament_label,boost_dt_pred,\"boosting by decision tree \")\n",
        " "
      ],
      "execution_count": null,
      "outputs": [
        {
          "output_type": "stream",
          "text": [
            "voting by linear Spearmans correlation coefficient: 0.886\n",
            "Samples are correlated (reject H0) p=0.000\n",
            "voting by mlp  Spearmans correlation coefficient: 0.871\n",
            "Samples are correlated (reject H0) p=0.000\n",
            "boosting by gradient descentSpearmans correlation coefficient: 0.235\n",
            "Samples are correlated (reject H0) p=0.000\n",
            "boosting by decision tree Spearmans correlation coefficient: 0.161\n",
            "Samples are correlated (reject H0) p=0.000\n"
          ],
          "name": "stdout"
        }
      ]
    }
  ]
}