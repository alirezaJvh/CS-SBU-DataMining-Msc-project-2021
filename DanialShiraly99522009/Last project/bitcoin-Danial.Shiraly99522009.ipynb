{
  "nbformat": 4,
  "nbformat_minor": 0,
  "metadata": {
    "colab": {
      "name": "bitcoin.ipynb",
      "provenance": [],
      "collapsed_sections": []
    },
    "kernelspec": {
      "name": "python3",
      "display_name": "Python 3"
    },
    "language_info": {
      "name": "python"
    }
  },
  "cells": [
    {
      "cell_type": "code",
      "metadata": {
        "id": "4QyxePuk8AiF"
      },
      "source": [
        "import warnings\n",
        "warnings.filterwarnings('ignore')\n",
        "import numpy as np\n",
        "import pandas as pd\n",
        "from datetime import datetime\n",
        "from sklearn.linear_model import LogisticRegression\n",
        "from sklearn.svm import LinearSVR\n",
        "from sklearn.pipeline import make_pipeline\n",
        "from sklearn.preprocessing import StandardScaler\n",
        "from sklearn.neighbors import KNeighborsRegressor\n",
        "from sklearn.ensemble import RandomForestRegressor\n",
        "from sklearn.tree import DecisionTreeRegressor\n",
        "from sklearn.multioutput import MultiOutputRegressor\n",
        "from sklearn.linear_model import Ridge\n",
        "from sklearn.linear_model import LinearRegression\n",
        "from sklearn.linear_model import SGDRegressor\n",
        "from sklearn.pipeline import make_pipeline\n",
        "from sklearn.preprocessing import StandardScaler\n",
        "from sklearn.isotonic import IsotonicRegression\n",
        "from sklearn.gaussian_process import GaussianProcessRegressor\n",
        "from sklearn.gaussian_process.kernels import DotProduct, WhiteKernel\n",
        "from sklearn.neural_network import MLPRegressor\n",
        "from sklearn.svm import SVR\n",
        "from sklearn.linear_model import RidgeCV\n",
        "\n",
        "import matplotlib.pyplot as plt\n",
        "from keras.models import Sequential\n",
        "from keras.layers import Dense\n",
        "from keras.layers import LSTM\n",
        "from keras.layers import Dropout\n",
        "from keras.layers import *\n",
        "from sklearn.preprocessing import MinMaxScaler\n",
        "from sklearn.metrics import mean_squared_error\n",
        "from sklearn.ensemble import AdaBoostRegressor\n",
        "from sklearn.ensemble import VotingRegressor\n",
        "from sklearn.ensemble import BaggingRegressor\n",
        "from copy import deepcopy\n"
      ],
      "execution_count": null,
      "outputs": []
    },
    {
      "cell_type": "markdown",
      "metadata": {
        "id": "QY9P4tOGpYDD"
      },
      "source": [
        "در ابتدا پس از لود کردن دیتاهای بیت کوین، تاریخ داده های را جدا کردیم و به فرمت قابل استفاده تبدیل کردیم."
      ]
    },
    {
      "cell_type": "code",
      "metadata": {
        "colab": {
          "base_uri": "https://localhost:8080/",
          "height": 419
        },
        "id": "aWXIUNrnbzlX",
        "outputId": "e07e9579-b6a7-478c-ed7d-3e6a61a3467e"
      },
      "source": [
        "# data = pd.read_csv(\"drive/MyDrive/test/Bitcoin.csv\")\n",
        "data = pd.read_csv(\"/content/Bitcoin.csv\")\n",
        "\n",
        "def mdy_to_ymd(d):\n",
        "    return datetime.strptime(d, '%b %d, %Y').strftime('%Y-%m-%d')\n",
        "\n",
        "\n",
        "\n",
        "def pstr_to_flaot(P):\n",
        "    return float((\"\".join(P.split(\",\"))))\n",
        "\n",
        "data.Date = data.Date.apply(mdy_to_ymd)\n",
        "\n",
        "data.Price = data.Price.apply(pstr_to_flaot)\n",
        "data.Open = data.Open.apply(pstr_to_flaot)\n",
        "data.High = data.High.apply(pstr_to_flaot)\n",
        "data.Low = data.Low.apply(pstr_to_flaot)\n",
        "\n",
        "def vol_str_to_int(vol):\n",
        "    return vol[:-1]\n",
        "\n",
        "data[\"Vol.\"] = data[\"Vol.\"].apply(vol_str_to_int)\n",
        "\n",
        "l = []\n",
        "for i in data.index:\n",
        "    try:\n",
        "        data.iloc[i, 5] = 1000*float(data.iloc[i, 5])\n",
        "    except ValueError:\n",
        "        l.append(i)\n",
        "for i in l:\n",
        "    data.iloc[i, 5] = 0\n",
        "data"
      ],
      "execution_count": null,
      "outputs": [
        {
          "output_type": "execute_result",
          "data": {
            "text/html": [
              "<div>\n",
              "<style scoped>\n",
              "    .dataframe tbody tr th:only-of-type {\n",
              "        vertical-align: middle;\n",
              "    }\n",
              "\n",
              "    .dataframe tbody tr th {\n",
              "        vertical-align: top;\n",
              "    }\n",
              "\n",
              "    .dataframe thead th {\n",
              "        text-align: right;\n",
              "    }\n",
              "</style>\n",
              "<table border=\"1\" class=\"dataframe\">\n",
              "  <thead>\n",
              "    <tr style=\"text-align: right;\">\n",
              "      <th></th>\n",
              "      <th>Date</th>\n",
              "      <th>Price</th>\n",
              "      <th>Open</th>\n",
              "      <th>High</th>\n",
              "      <th>Low</th>\n",
              "      <th>Vol.</th>\n",
              "      <th>Change %</th>\n",
              "    </tr>\n",
              "  </thead>\n",
              "  <tbody>\n",
              "    <tr>\n",
              "      <th>0</th>\n",
              "      <td>2021-05-01</td>\n",
              "      <td>57807.1</td>\n",
              "      <td>57719.1</td>\n",
              "      <td>58449.4</td>\n",
              "      <td>57029.5</td>\n",
              "      <td>63410</td>\n",
              "      <td>0.15%</td>\n",
              "    </tr>\n",
              "    <tr>\n",
              "      <th>1</th>\n",
              "      <td>2021-04-30</td>\n",
              "      <td>57720.3</td>\n",
              "      <td>53562.3</td>\n",
              "      <td>57925.6</td>\n",
              "      <td>53088.7</td>\n",
              "      <td>103740</td>\n",
              "      <td>7.77%</td>\n",
              "    </tr>\n",
              "    <tr>\n",
              "      <th>2</th>\n",
              "      <td>2021-04-29</td>\n",
              "      <td>53560.8</td>\n",
              "      <td>54838.6</td>\n",
              "      <td>55173.7</td>\n",
              "      <td>52400.0</td>\n",
              "      <td>83900</td>\n",
              "      <td>-2.34%</td>\n",
              "    </tr>\n",
              "    <tr>\n",
              "      <th>3</th>\n",
              "      <td>2021-04-28</td>\n",
              "      <td>54841.4</td>\n",
              "      <td>55036.0</td>\n",
              "      <td>56419.9</td>\n",
              "      <td>53876.4</td>\n",
              "      <td>86960</td>\n",
              "      <td>-0.35%</td>\n",
              "    </tr>\n",
              "    <tr>\n",
              "      <th>4</th>\n",
              "      <td>2021-04-27</td>\n",
              "      <td>55036.5</td>\n",
              "      <td>54011.1</td>\n",
              "      <td>55427.8</td>\n",
              "      <td>53345.0</td>\n",
              "      <td>84080</td>\n",
              "      <td>1.88%</td>\n",
              "    </tr>\n",
              "    <tr>\n",
              "      <th>...</th>\n",
              "      <td>...</td>\n",
              "      <td>...</td>\n",
              "      <td>...</td>\n",
              "      <td>...</td>\n",
              "      <td>...</td>\n",
              "      <td>...</td>\n",
              "      <td>...</td>\n",
              "    </tr>\n",
              "    <tr>\n",
              "      <th>3936</th>\n",
              "      <td>2010-07-22</td>\n",
              "      <td>0.1</td>\n",
              "      <td>0.1</td>\n",
              "      <td>0.1</td>\n",
              "      <td>0.1</td>\n",
              "      <td>2160</td>\n",
              "      <td>0.00%</td>\n",
              "    </tr>\n",
              "    <tr>\n",
              "      <th>3937</th>\n",
              "      <td>2010-07-21</td>\n",
              "      <td>0.1</td>\n",
              "      <td>0.1</td>\n",
              "      <td>0.1</td>\n",
              "      <td>0.1</td>\n",
              "      <td>580</td>\n",
              "      <td>0.00%</td>\n",
              "    </tr>\n",
              "    <tr>\n",
              "      <th>3938</th>\n",
              "      <td>2010-07-20</td>\n",
              "      <td>0.1</td>\n",
              "      <td>0.1</td>\n",
              "      <td>0.1</td>\n",
              "      <td>0.1</td>\n",
              "      <td>260</td>\n",
              "      <td>0.00%</td>\n",
              "    </tr>\n",
              "    <tr>\n",
              "      <th>3939</th>\n",
              "      <td>2010-07-19</td>\n",
              "      <td>0.1</td>\n",
              "      <td>0.1</td>\n",
              "      <td>0.1</td>\n",
              "      <td>0.1</td>\n",
              "      <td>570</td>\n",
              "      <td>0.00%</td>\n",
              "    </tr>\n",
              "    <tr>\n",
              "      <th>3940</th>\n",
              "      <td>2010-07-18</td>\n",
              "      <td>0.1</td>\n",
              "      <td>0.0</td>\n",
              "      <td>0.1</td>\n",
              "      <td>0.1</td>\n",
              "      <td>80</td>\n",
              "      <td>0.00%</td>\n",
              "    </tr>\n",
              "  </tbody>\n",
              "</table>\n",
              "<p>3941 rows × 7 columns</p>\n",
              "</div>"
            ],
            "text/plain": [
              "            Date    Price     Open     High      Low    Vol. Change %\n",
              "0     2021-05-01  57807.1  57719.1  58449.4  57029.5   63410    0.15%\n",
              "1     2021-04-30  57720.3  53562.3  57925.6  53088.7  103740    7.77%\n",
              "2     2021-04-29  53560.8  54838.6  55173.7  52400.0   83900   -2.34%\n",
              "3     2021-04-28  54841.4  55036.0  56419.9  53876.4   86960   -0.35%\n",
              "4     2021-04-27  55036.5  54011.1  55427.8  53345.0   84080    1.88%\n",
              "...          ...      ...      ...      ...      ...     ...      ...\n",
              "3936  2010-07-22      0.1      0.1      0.1      0.1    2160    0.00%\n",
              "3937  2010-07-21      0.1      0.1      0.1      0.1     580    0.00%\n",
              "3938  2010-07-20      0.1      0.1      0.1      0.1     260    0.00%\n",
              "3939  2010-07-19      0.1      0.1      0.1      0.1     570    0.00%\n",
              "3940  2010-07-18      0.1      0.0      0.1      0.1      80    0.00%\n",
              "\n",
              "[3941 rows x 7 columns]"
            ]
          },
          "metadata": {
            "tags": []
          },
          "execution_count": 5
        }
      ]
    },
    {
      "cell_type": "markdown",
      "metadata": {
        "id": "engLXgUkpzYy"
      },
      "source": [
        "سپس داده های آموزش و تست را جداسازی کرده و به صورت نامپای دراوردیم."
      ]
    },
    {
      "cell_type": "code",
      "metadata": {
        "id": "0FoC6qfVb2yA"
      },
      "source": [
        "data_test = data.iloc[:486].to_numpy()\n",
        "data_train = data.iloc[486:].to_numpy()\n",
        "x_train, y_train = data_train[1:, 2:6], data_train[:-1, 1]\n",
        "x_test, y_test = data_test[1:, 2:6], data_test[:-1, 1]\n",
        "\n",
        "y_test_copy = deepcopy(y_test)\n",
        "y_train_copy = deepcopy(y_train)"
      ],
      "execution_count": null,
      "outputs": []
    },
    {
      "cell_type": "markdown",
      "metadata": {
        "id": "XdlALGZbp-_I"
      },
      "source": [
        "در باکس بعدی توسط ۱۰ رگرسور، سعی کردیم که یک پیش بینی برروی  داده های تست و آموزش انجام دهیم. همانطور که مشاهده میشود، مقادیر خطای کمترین مربعات و دقت ( بصورتی که در صورت سوال خواسته شده) برای هر رگرسور نمایش داده شده است."
      ]
    },
    {
      "cell_type": "code",
      "metadata": {
        "colab": {
          "base_uri": "https://localhost:8080/"
        },
        "id": "W1cy8hsJb6mk",
        "outputId": "0267d95c-44ec-4846-8dc1-719c9ca0fc9c"
      },
      "source": [
        "LinearR = LinearRegression().fit(x_train, y_train)\n",
        "y_pred = LinearR.predict(x_test)\n",
        "print( \"1.LinearRegression accuracy = \", np.mean(np.abs(y_pred-y_test)/y_test < 0.05)*100 )\n",
        "print(\"  LinearRegression RMSE = \", mean_squared_error(y_pred, y_test))\n",
        "\n",
        "\n",
        "SVM = make_pipeline(StandardScaler(), SVR(kernel='linear',C=1000)).fit(x_train, y_train)\n",
        "y_pred = SVM.predict(x_test)\n",
        "print( \"\\n2.SVM accuracy = \", np.mean(np.abs(y_pred-y_test)/y_test < 0.05)*100 )\n",
        "print(\"  SVM RMSE = \", mean_squared_error(y_pred, y_test))\n",
        "\n",
        "\n",
        "KNR = KNeighborsRegressor(n_neighbors= 5).fit(x_train, y_train)\n",
        "y_pred = KNR.predict(x_test)\n",
        "print( \"\\n3.KNeighborsRegressor accuracy = \", np.mean(np.abs(y_pred-y_test)/y_test < 0.05)*100 )\n",
        "print(\"  KNeighborsRegressor RMSE = \", mean_squared_error(y_pred, y_test))\n",
        "\n",
        "\n",
        "RFR = RandomForestRegressor(max_depth= 5).fit(x_train, y_train)\n",
        "y_pred = RFR.predict(x_test)\n",
        "print( \"\\n4.RandomForestRegressor accuracy = \", np.mean(np.abs(y_pred-y_test)/y_test < 0.05)*100 )\n",
        "print(\"  RandomForestRegressor RMSE = \", mean_squared_error(y_pred, y_test))\n",
        "\n",
        "\n",
        "DTR = DecisionTreeRegressor().fit(x_train, y_train)\n",
        "y_pred = DTR.predict(x_test)\n",
        "print( \"\\n5.DecisionTreeRegressor accuracy = \", np.mean(np.abs(y_pred-y_test)/y_test < 0.05)*100 )\n",
        "print(\"  DecisionTreeRegressor RMSE = \", mean_squared_error(y_pred, y_test))\n",
        "\n",
        "\n",
        "SGDR = make_pipeline(StandardScaler(), SGDRegressor(max_iter=1000, tol=1e-3)).fit(x_train, y_train)\n",
        "y_pred = SGDR.predict(x_test)\n",
        "print( \"\\n6.SGDRegressor accuracy = \", np.mean(np.abs(y_pred-y_test)/y_test < 0.05)*100 )\n",
        "print(\"  SGDRegressor RMSE = \", mean_squared_error(y_pred, y_test))\n",
        "\n",
        "\n",
        "isoR = IsotonicRegression().fit(x_train[:, 0], y_train)\n",
        "y_pred = isoR.predict(x_test[:, 0])\n",
        "print( \"\\n7.IsotonicRegression accuracy = \", np.mean(np.abs(y_pred-y_test)/y_test < 0.05)*100 )\n",
        "# print(\"  IsotonicRegression RMSE = \", mean_squared_error(y_pred, y_test))\n",
        "\n",
        "\n",
        "kernel = DotProduct() + WhiteKernel()\n",
        "GPR = GaussianProcessRegressor(kernel=kernel, random_state=0).fit(x_train, y_train)\n",
        "y_pred = GPR.predict(x_test)\n",
        "print( \"\\n8.GaussianProcessRegressor accuracy = \", np.mean(np.abs(y_pred-y_test)/y_test < 0.05)*100 )\n",
        "print(\"  GaussianProcessRegressor RMSE = \", mean_squared_error(y_pred, y_test))\n",
        "\n",
        "\n",
        "MLPR = MLPRegressor(random_state=1, max_iter=500).fit(x_train, y_train)\n",
        "y_pred = MLPR.predict(x_test)\n",
        "print( \"\\n9.MLPRegressor accuracy = \", np.mean(np.abs(y_pred-y_test)/y_test < 0.05)*100 )\n",
        "print(\"  MLPRegressor RMSE = \", mean_squared_error(y_pred, y_test))\n",
        "\n",
        "\n",
        "RCVR = RidgeCV().fit(x_train, y_train)\n",
        "y_pred = RCVR.predict(x_test)\n",
        "print( \"\\n10.Ridge with Cross Validation accuracy = \", np.mean(np.abs(y_pred-y_test)/y_test < 0.05)*100)\n",
        "print(\"  Ridge with Cross Validation RMSE = \", mean_squared_error(y_pred, y_test))\n"
      ],
      "execution_count": null,
      "outputs": [
        {
          "output_type": "stream",
          "text": [
            "1.LinearRegression accuracy =  83.29896907216495\n",
            "  LinearRegression RMSE =  1463069.6228656603\n",
            "\n",
            "2.SVM accuracy =  83.91752577319588\n",
            "  SVM RMSE =  1426980.4664711824\n",
            "\n",
            "3.KNeighborsRegressor accuracy =  18.969072164948454\n",
            "  KNeighborsRegressor RMSE =  291391489.63901275\n",
            "\n",
            "4.RandomForestRegressor accuracy =  60.0\n",
            "  RandomForestRegressor RMSE =  252255787.0021648\n",
            "\n",
            "5.DecisionTreeRegressor accuracy =  38.96907216494846\n",
            "  DecisionTreeRegressor RMSE =  246340578.5049897\n",
            "\n",
            "6.SGDRegressor accuracy =  81.03092783505154\n",
            "  SGDRegressor RMSE =  1692035.3097700984\n",
            "\n",
            "7.IsotonicRegression accuracy =  52.57731958762887\n",
            "\n",
            "8.GaussianProcessRegressor accuracy =  83.50515463917526\n",
            "  GaussianProcessRegressor RMSE =  1460421.598415503\n",
            "\n",
            "9.MLPRegressor accuracy =  71.54639175257732\n",
            "  MLPRegressor RMSE =  2720706.3529329826\n",
            "\n",
            "10.Ridge with Cross Validation accuracy =  82.88659793814433\n",
            "  Ridge with Cross Validation RMSE =  1463812.0173785838\n"
          ],
          "name": "stdout"
        }
      ]
    },
    {
      "cell_type": "markdown",
      "metadata": {
        "id": "RJxxcZ81rOJ7"
      },
      "source": [
        "در این مرحله قصد داریم با کمک مدل بازگشتی شبکه عصبی برای قیمت داده های بیتکوین پیش بینی انجام دهیم. برای این کار ابتدا داده ها را استاندارد میکنیم و سپس به صورت ورودی شبکه تغییر میدهیم. در نهایت شبکه را روی مجموعه داده های ساخته شده جدید آموزش میدهیم"
      ]
    },
    {
      "cell_type": "code",
      "metadata": {
        "id": "eClk00NYG9ss"
      },
      "source": [
        "training_set = data.iloc[486:, 1:2].values\n",
        "test_set = data.iloc[:486, 1:2].values\n",
        "\n",
        "sc = MinMaxScaler(feature_range = (0, 1))\n",
        "training_set_scaled = sc.fit_transform(training_set)\n",
        "test_set_scaled = sc.fit_transform(test_set)\n",
        "\n",
        "X_train = []\n",
        "y_train = []\n",
        "for i in range(60, 3455):\n",
        "    X_train.append(training_set_scaled[i-60:i, 0])\n",
        "    y_train.append(training_set_scaled[i, 0])\n",
        "X_train, y_train = np.array(X_train), np.array(y_train)\n",
        "X_train = np.reshape(X_train, (X_train.shape[0], X_train.shape[1], 1))\n",
        "\n",
        "dataset_train = data.iloc[486:, 1:2]\n",
        "dataset_test = data.iloc[:486, 1:2]\n",
        "dataset_total = pd.concat((dataset_train, dataset_test), axis = 0)\n",
        "inputs = dataset_total[len(dataset_total) - len(dataset_test) - 60:].values\n",
        "inputs = inputs.reshape(-1,1)\n",
        "inputs = sc.transform(inputs)\n",
        "X_test = []\n",
        "for i in range(60, 546):\n",
        "    X_test.append(inputs[i-60:i, 0])\n",
        "X_test = np.array(X_test)\n",
        "X_test = np.reshape(X_test, (X_test.shape[0], X_test.shape[1], 1))"
      ],
      "execution_count": null,
      "outputs": []
    },
    {
      "cell_type": "code",
      "metadata": {
        "colab": {
          "base_uri": "https://localhost:8080/"
        },
        "id": "j-ieW6-Zjc0q",
        "outputId": "109d90fe-fdcc-4da7-9c30-5d2f6a19d207"
      },
      "source": [
        "model = Sequential()\n",
        "model.add(LSTM(units = 50, return_sequences = True, input_shape = (X_train.shape[1], 1)))\n",
        "model.add(Dropout(0.2))\n",
        "model.add(LSTM(units = 50, return_sequences = True))\n",
        "model.add(Dropout(0.2))\n",
        "model.add(LSTM(units = 50, return_sequences = True))\n",
        "model.add(Dropout(0.2))\n",
        "model.add(LSTM(units = 50))\n",
        "model.add(Dropout(0.2))\n",
        "model.add(Dense(units = 1))\n",
        "model.compile(optimizer = 'adam', loss = 'mean_squared_error')\n",
        "model.fit(X_train, y_train, epochs = 20, batch_size = 64)"
      ],
      "execution_count": null,
      "outputs": [
        {
          "output_type": "stream",
          "text": [
            "Epoch 1/20\n",
            "54/54 [==============================] - 32s 150ms/step - loss: 0.0108\n",
            "Epoch 2/20\n",
            "54/54 [==============================] - 8s 149ms/step - loss: 0.0019\n",
            "Epoch 3/20\n",
            "54/54 [==============================] - 8s 150ms/step - loss: 0.0018\n",
            "Epoch 4/20\n",
            "54/54 [==============================] - 8s 148ms/step - loss: 0.0022\n",
            "Epoch 5/20\n",
            "54/54 [==============================] - 8s 147ms/step - loss: 0.0013\n",
            "Epoch 6/20\n",
            "54/54 [==============================] - 8s 147ms/step - loss: 0.0018\n",
            "Epoch 7/20\n",
            "54/54 [==============================] - 8s 148ms/step - loss: 0.0014\n",
            "Epoch 8/20\n",
            "54/54 [==============================] - 8s 147ms/step - loss: 0.0012\n",
            "Epoch 9/20\n",
            "54/54 [==============================] - 8s 148ms/step - loss: 9.4258e-04\n",
            "Epoch 10/20\n",
            "54/54 [==============================] - 8s 148ms/step - loss: 0.0010\n",
            "Epoch 11/20\n",
            "54/54 [==============================] - 8s 146ms/step - loss: 0.0013\n",
            "Epoch 12/20\n",
            "54/54 [==============================] - 8s 147ms/step - loss: 9.0975e-04\n",
            "Epoch 13/20\n",
            "54/54 [==============================] - 8s 147ms/step - loss: 0.0012\n",
            "Epoch 14/20\n",
            "54/54 [==============================] - 8s 148ms/step - loss: 0.0010\n",
            "Epoch 15/20\n",
            "54/54 [==============================] - 8s 148ms/step - loss: 8.9786e-04\n",
            "Epoch 16/20\n",
            "54/54 [==============================] - 8s 147ms/step - loss: 9.5101e-04\n",
            "Epoch 17/20\n",
            "54/54 [==============================] - 8s 147ms/step - loss: 7.8916e-04\n",
            "Epoch 18/20\n",
            "54/54 [==============================] - 8s 147ms/step - loss: 8.3946e-04\n",
            "Epoch 19/20\n",
            "54/54 [==============================] - 8s 147ms/step - loss: 8.0933e-04\n",
            "Epoch 20/20\n",
            "54/54 [==============================] - 8s 147ms/step - loss: 0.0010\n"
          ],
          "name": "stdout"
        },
        {
          "output_type": "execute_result",
          "data": {
            "text/plain": [
              "<keras.callbacks.History at 0x7f4241adc350>"
            ]
          },
          "metadata": {
            "tags": []
          },
          "execution_count": 9
        }
      ]
    },
    {
      "cell_type": "code",
      "metadata": {
        "colab": {
          "base_uri": "https://localhost:8080/",
          "height": 312
        },
        "id": "ptmKpNRqMiCF",
        "outputId": "c568cb86-3294-43b6-aa06-e5243d96fc20"
      },
      "source": [
        "predicted_stock_price = model.predict(X_test)\n",
        "predicted_stock_price = sc.inverse_transform(predicted_stock_price)\n",
        "\n",
        "# Visualising the results\n",
        "plt.plot(data.loc[:485, 'Date'],dataset_test.values, color='lightsteelblue')\n",
        "plt.plot(data.loc[:485, 'Date'],predicted_stock_price, color='slateblue')\n",
        "plt.title('BitCoin Price Prediction')\n",
        "plt.xlabel('Date')\n",
        "plt.ylabel('BitCoin Price')\n",
        "# plt.legend()\n",
        "plt.show()"
      ],
      "execution_count": null,
      "outputs": [
        {
          "output_type": "stream",
          "text": [
            "No handles with labels found to put in legend.\n"
          ],
          "name": "stderr"
        },
        {
          "output_type": "display_data",
          "data": {
            "image/png": "[encoded data removed]",
            "text/plain": [
              "<Figure size 432x288 with 1 Axes>"
            ]
          },
          "metadata": {
            "tags": [],
            "needs_background": "light"
          }
        }
      ]
    },
    {
      "cell_type": "markdown",
      "metadata": {
        "id": "uodjNhCguoeg"
      },
      "source": [
        "در این بخش میخواهیم از الگوریتم های انسمبل استفاده کنیم:\n",
        "\n",
        "\n",
        "*   Voting\n",
        "*   Bagging\n",
        "*   Boosting\n",
        "\n"
      ]
    },
    {
      "cell_type": "markdown",
      "metadata": {
        "id": "uuvGiizUzlNe"
      },
      "source": [
        "### Voting Regressor"
      ]
    },
    {
      "cell_type": "code",
      "metadata": {
        "colab": {
          "base_uri": "https://localhost:8080/"
        },
        "id": "9HqgqSwHtncM",
        "outputId": "4ffd26b9-2773-4e45-ac34-5f0878043cda"
      },
      "source": [
        "y_train = y_train_copy\n",
        "y_test = y_test_copy\n",
        "stimators = [('svm', SVM), ('lr', LinearR), (\"ridge\", RCVR), (\"MLP\", MLPR), (\"sgdr\", SGDR)]\n",
        "VR = VotingRegressor([('lr', LinearR), ('svm', SVM)]).fit(x_train, y_train)\n",
        "y_pred = VR.predict(x_test)\n",
        "print( \"VotingRegressor with 2 regressor accuracy = \", np.mean(np.abs(y_pred-y_test)/y_test < 0.05)*100)\n",
        "print(\"VotingRegressor with 2 regressor RMSE = \", mean_squared_error(y_pred, y_test))\n",
        "\n",
        "VR = VotingRegressor(stimators).fit(x_train, y_train)\n",
        "y_pred = VR.predict(x_test)\n",
        "print( \"\\nVotingRegressor with 5 regressor accuracy = \", np.mean(np.abs(y_pred-y_test)/y_test < 0.05)*100)\n",
        "print(\"VotingRegressor with 5 regressor RMSE = \", mean_squared_error(y_pred, y_test))"
      ],
      "execution_count": null,
      "outputs": [
        {
          "output_type": "stream",
          "text": [
            "VotingRegressor with 2 regressor accuracy =  83.91752577319588\n",
            "VotingRegressor with 2 regressor RMSE =  1440921.2983758245\n",
            "\n",
            "VotingRegressor with 5 regressor accuracy =  82.88659793814433\n",
            "VotingRegressor with 5 regressor RMSE =  1560373.2857748242\n"
          ],
          "name": "stdout"
        }
      ]
    },
    {
      "cell_type": "markdown",
      "metadata": {
        "id": "x9YpaVTrzsQf"
      },
      "source": [
        "### Bagging Regressor"
      ]
    },
    {
      "cell_type": "code",
      "metadata": {
        "colab": {
          "base_uri": "https://localhost:8080/"
        },
        "id": "gDZx1IA4vzmY",
        "outputId": "242bacc0-de63-4c96-cf6c-d3b58fa6f557"
      },
      "source": [
        "VR = BaggingRegressor(SVM).fit(x_train, y_train)\n",
        "y_pred = VR.predict(x_test)\n",
        "print( \"BaggingRegressor with SVM base accuracy = \", np.mean(np.abs(y_pred-y_test)/y_test < 0.05)*100)\n",
        "print(\"BaggingRegressor with SVM base RMSE = \", mean_squared_error(y_pred, y_test))\n",
        "\n",
        "VR = BaggingRegressor(LinearR).fit(x_train, y_train)\n",
        "y_pred = VR.predict(x_test)\n",
        "print( \"\\nBaggingRegressor with LinearR base accuracy = \", np.mean(np.abs(y_pred-y_test)/y_test < 0.05)*100)\n",
        "print(\"BaggingRegressor with LinearR base RMSE = \", mean_squared_error(y_pred, y_test))\n",
        "\n",
        "VR = BaggingRegressor(RCVR).fit(x_train, y_train)\n",
        "y_pred = VR.predict(x_test)\n",
        "print( \"\\nBaggingRegressor with RidgeR base accuracy = \", np.mean(np.abs(y_pred-y_test)/y_test < 0.05)*100)\n",
        "print(\"BaggingRegressor with RidgeR base RMSE = \", mean_squared_error(y_pred, y_test))\n",
        "\n",
        "VR = BaggingRegressor(MLPR).fit(x_train, y_train)\n",
        "y_pred = VR.predict(x_test)\n",
        "print( \"\\nBaggingRegressor with MLPR base accuracy = \", np.mean(np.abs(y_pred-y_test)/y_test < 0.05)*100)\n",
        "print(\"BaggingRegressor with MLPR base RMSE = \", mean_squared_error(y_pred, y_test))\n",
        "\n",
        "VR = BaggingRegressor(SGDR).fit(x_train, y_train)\n",
        "y_pred = VR.predict(x_test)\n",
        "print( \"\\nBaggingRegressor with SGDR base accuracy = \", np.mean(np.abs(y_pred-y_test)/y_test < 0.05)*100)\n",
        "print(\"BaggingRegressor with SGDR base RMSE = \", mean_squared_error(y_pred, y_test))"
      ],
      "execution_count": null,
      "outputs": [
        {
          "output_type": "stream",
          "text": [
            "BaggingRegressor with SVM base accuracy =  83.91752577319588\n",
            "BaggingRegressor with SVM base RMSE =  1429157.0507796134\n",
            "\n",
            "BaggingRegressor with LinearR base accuracy =  83.29896907216495\n",
            "BaggingRegressor with LinearR base RMSE =  1466579.7205911116\n",
            "\n",
            "BaggingRegressor with RidgeR base accuracy =  83.91752577319588\n",
            "BaggingRegressor with RidgeR base RMSE =  1481892.5382141047\n",
            "\n",
            "BaggingRegressor with MLPR base accuracy =  80.41237113402062\n",
            "BaggingRegressor with MLPR base RMSE =  1906329.258843643\n",
            "\n",
            "BaggingRegressor with SGDR base accuracy =  81.44329896907216\n",
            "BaggingRegressor with SGDR base RMSE =  1646487.401766922\n"
          ],
          "name": "stdout"
        }
      ]
    },
    {
      "cell_type": "markdown",
      "metadata": {
        "id": "PDArVbSEz5Ch"
      },
      "source": [
        "### Boosting Regressor"
      ]
    },
    {
      "cell_type": "code",
      "metadata": {
        "id": "tg8AQ1kAR6H2",
        "colab": {
          "base_uri": "https://localhost:8080/"
        },
        "outputId": "6dde1fbc-5bba-4c13-d37e-f44ab45a907e"
      },
      "source": [
        "VR = AdaBoostRegressor(SVM).fit(x_train, y_train)\n",
        "y_pred = VR.predict(x_test)\n",
        "print( \"AdaBoostRegressor with SVM base accuracy = \", np.mean(np.abs(y_pred-y_test)/y_test < 0.05)*100)\n",
        "print(\"AdaBoostRegressor with SVM base RMSE = \", mean_squared_error(y_pred, y_test))\n",
        "\n",
        "VR = AdaBoostRegressor(LinearR).fit(x_train, y_train)\n",
        "y_pred = VR.predict(x_test)\n",
        "print( \"\\nAdaBoostRegressor with LinearR base accuracy = \", np.mean(np.abs(y_pred-y_test)/y_test < 0.05)*100)\n",
        "print(\"AdaBoostRegressor with LinearR base RMSE = \", mean_squared_error(y_pred, y_test))\n",
        "\n",
        "VR = AdaBoostRegressor(RCVR).fit(x_train, y_train)\n",
        "y_pred = VR.predict(x_test)\n",
        "print( \"\\nAdaBoostRegressor with RidgeR base accuracy = \", np.mean(np.abs(y_pred-y_test)/y_test < 0.05)*100)\n",
        "print(\"AdaBoostRegressor with RidgeR base RMSE = \", mean_squared_error(y_pred, y_test))\n",
        "\n",
        "VR = AdaBoostRegressor(MLPR).fit(x_train, y_train)\n",
        "y_pred = VR.predict(x_test)\n",
        "print( \"\\nAdaBoostRegressor with MLPR base accuracy = \", np.mean(np.abs(y_pred-y_test)/y_test < 0.05)*100)\n",
        "print(\"AdaBoostRegressor with MLPR base RMSE = \", mean_squared_error(y_pred, y_test))\n",
        "\n",
        "VR = AdaBoostRegressor(SGDR).fit(x_train, y_train)\n",
        "y_pred = VR.predict(x_test)\n",
        "print( \"\\nAdaBoostRegressor with SGDR base accuracy = \", np.mean(np.abs(y_pred-y_test)/y_test < 0.05)*100)\n",
        "print(\"AdaBoostRegressor with SGDR base RMSE = \", mean_squared_error(y_pred, y_test))"
      ],
      "execution_count": null,
      "outputs": [
        {
          "output_type": "stream",
          "text": [
            "AdaBoostRegressor with SVM base accuracy =  83.50515463917526\n",
            "AdaBoostRegressor with SVM base RMSE =  1501224.4250258896\n",
            "\n",
            "AdaBoostRegressor with LinearR base accuracy =  79.79381443298969\n",
            "AdaBoostRegressor with LinearR base RMSE =  1831821.114212425\n",
            "\n",
            "AdaBoostRegressor with RidgeR base accuracy =  81.64948453608247\n",
            "AdaBoostRegressor with RidgeR base RMSE =  1610028.1702815546\n",
            "\n",
            "AdaBoostRegressor with MLPR base accuracy =  74.63917525773196\n",
            "AdaBoostRegressor with MLPR base RMSE =  2182791.5036949837\n",
            "\n",
            "AdaBoostRegressor with SGDR base accuracy =  82.68041237113401\n",
            "AdaBoostRegressor with SGDR base RMSE =  1452505.831113617\n"
          ],
          "name": "stdout"
        }
      ]
    },
    {
      "cell_type": "markdown",
      "metadata": {
        "id": "xwIPF_tjvPGL"
      },
      "source": [
        "همانگونه که دیده میشود عملکرد  بگینگ در مقایسه با بوستینگ بطور جداگانه کمی بهتر بوده است. همینطور استفاده از ووتینگ نیز باعث افزایش دقت شده است."
      ]
    },
    {
      "cell_type": "markdown",
      "metadata": {
        "id": "lZ2vZpqD7JtB"
      },
      "source": [
        "### Random Forest Method"
      ]
    },
    {
      "cell_type": "markdown",
      "metadata": {
        "id": "clzv9YtUv9K1"
      },
      "source": [
        "در اینجا متود رندوم فارست برای پیش بینی قیمت استفاده کردیم و همانطور که دیده میشود، افزودن ماکسیمم عمق ۵ به درختان، باعث بهبود عملکرد خواهد شد"
      ]
    },
    {
      "cell_type": "code",
      "metadata": {
        "id": "PeOz5ws9rZtI",
        "colab": {
          "base_uri": "https://localhost:8080/"
        },
        "outputId": "039df5dd-b2dc-4bdd-a074-293715a71856"
      },
      "source": [
        "RFR = RandomForestRegressor().fit(x_train, y_train)\n",
        "y_pred = RFR.predict(x_test)\n",
        "print( \"RandomForestRegressor accuracy = \", np.mean(np.abs(y_pred-y_test)/y_test < 0.05)*100 )\n",
        "print(\"RandomForestRegressor RMSE = \", mean_squared_error(y_pred, y_test))\n",
        "\n",
        "RFR = RandomForestRegressor(max_depth=5).fit(x_train, y_train)\n",
        "y_pred = RFR.predict(x_test)\n",
        "print( \"\\nRandomForestRegressor with maximum depth 5 accuracy = \", np.mean(np.abs(y_pred-y_test)/y_test < 0.05)*100 )\n",
        "print(\"RandomForestRegressor with maximum depth 5 RMSE = \", mean_squared_error(y_pred, y_test))\n",
        "\n"
      ],
      "execution_count": null,
      "outputs": [
        {
          "output_type": "stream",
          "text": [
            "RandomForestRegressor accuracy =  55.25773195876289\n",
            "RandomForestRegressor RMSE =  250118725.77573574\n",
            "\n",
            "RandomForestRegressor with maximum depth5 accuracy =  60.20618556701031\n",
            "RandomForestRegressor with maximum depth 5 RMSE =  250047783.03336406\n"
          ],
          "name": "stdout"
        }
      ]
    },
    {
      "cell_type": "markdown",
      "metadata": {
        "id": "ub8ndDTtwWiE"
      },
      "source": [
        "در این قسمت سعی کردیم ابتدا یک ستون شامل داده هایی درست کنیم که نشان دهنده بالاتر رفتن یا پایین آمدن قیمت نسبت به روز قبلی باشند، در این صورت، میتوان مساله را به یک مساله کلاسبندی تبدیل کرد که وظیفه مدل شبکه عصبی، پیش بینی بالارفتن یا پایین آمدن قیمت در روز بعدی باشد(کلاسبندی)"
      ]
    },
    {
      "cell_type": "code",
      "metadata": {
        "id": "rmx-ECPH1Vf1",
        "colab": {
          "base_uri": "https://localhost:8080/"
        },
        "outputId": "29905609-c155-47ca-b8ac-9ccb8fca9fd1"
      },
      "source": [
        "data[\"change_sign\"] = np.where( (data.Price - data.Open) >= 0, 1, 0)\n",
        "data.info()"
      ],
      "execution_count": null,
      "outputs": [
        {
          "output_type": "stream",
          "text": [
            "<class 'pandas.core.frame.DataFrame'>\n",
            "RangeIndex: 3941 entries, 0 to 3940\n",
            "Data columns (total 8 columns):\n",
            " #   Column       Non-Null Count  Dtype  \n",
            "---  ------       --------------  -----  \n",
            " 0   Date         3941 non-null   object \n",
            " 1   Price        3941 non-null   float64\n",
            " 2   Open         3941 non-null   float64\n",
            " 3   High         3941 non-null   float64\n",
            " 4   Low          3941 non-null   float64\n",
            " 5   Vol.         3941 non-null   object \n",
            " 6   Change %     3941 non-null   object \n",
            " 7   change_sign  3941 non-null   int64  \n",
            "dtypes: float64(4), int64(1), object(3)\n",
            "memory usage: 246.4+ KB\n"
          ],
          "name": "stdout"
        }
      ]
    },
    {
      "cell_type": "code",
      "metadata": {
        "id": "_q4-D606mhg3"
      },
      "source": [
        "training_set = data.iloc[486:, 1:2].values\n",
        "test_set = data.iloc[:486, 1:2].values\n",
        "y_test = data.iloc[60:486, -1].values\n",
        "y_train = data.iloc[546:, -1].values\n",
        "\n",
        "\n",
        "sc = MinMaxScaler(feature_range = (0, 1))\n",
        "training_set_scaled = sc.fit_transform(training_set)\n",
        "test_set_scaled = sc.fit_transform(test_set)\n",
        "\n",
        "X_train = []\n",
        "# y_train = []\n",
        "for i in range(60, 3455):\n",
        "    X_train.append(training_set_scaled[i-60:i, 0])\n",
        "    # y_train.append(training_set_scaled[i, 7])\n",
        "X_train, y_train = np.array(X_train), np.array(y_train)\n",
        "X_train = np.reshape(X_train, (X_train.shape[0], X_train.shape[1], 1))\n",
        "\n",
        "dataset_train = data.iloc[486:, 1:2]\n",
        "dataset_test = data.iloc[:486, 1:2]\n",
        "dataset_total = pd.concat((dataset_train, dataset_test), axis = 0)\n",
        "inputs = dataset_total[len(dataset_total) - len(dataset_test) - 60:].values\n",
        "inputs = inputs.reshape(-1,1)\n",
        "inputs = sc.transform(inputs)\n",
        "X_test = []\n",
        "# y_test = []\n",
        "for i in range(60, 546):\n",
        "    X_test.append(inputs[i-60:i, 0])\n",
        "    # y_test.append(training_set_scaled[i, 7])\n",
        "\n",
        "X_test = np.array(X_test)\n",
        "X_test = np.reshape(X_test, (X_test.shape[0], X_test.shape[1], 1))"
      ],
      "execution_count": null,
      "outputs": []
    },
    {
      "cell_type": "code",
      "metadata": {
        "id": "CORJ8M51kLTZ",
        "colab": {
          "base_uri": "https://localhost:8080/"
        },
        "outputId": "9a0dbf92-e9e5-4bd8-c201-172099b2c270"
      },
      "source": [
        "model = Sequential()\n",
        "model.add(LSTM(units = 50, return_sequences = True, input_shape = (X_train.shape[1], 1)))\n",
        "model.add(Dropout(0.2))\n",
        "model.add(LSTM(units = 50, return_sequences = True))\n",
        "model.add(Dropout(0.2))\n",
        "model.add(LSTM(units = 50, return_sequences = True))\n",
        "model.add(Dropout(0.2))\n",
        "model.add(LSTM(units = 50))\n",
        "model.add(Dropout(0.2))\n",
        "model.add(Dense(units = 1,  activation='sigmoid'))\n",
        "model.compile(optimizer = 'adam', loss = 'mean_squared_error', metrics=['accuracy'])\n",
        "model.fit(X_train, y_train, epochs = 20, batch_size = 64)"
      ],
      "execution_count": null,
      "outputs": [
        {
          "output_type": "stream",
          "text": [
            "Epoch 1/20\n",
            "54/54 [==============================] - 16s 149ms/step - loss: 0.2446 - accuracy: 0.5866\n",
            "Epoch 2/20\n",
            "54/54 [==============================] - 8s 148ms/step - loss: 0.2421 - accuracy: 0.5812\n",
            "Epoch 3/20\n",
            "54/54 [==============================] - 8s 146ms/step - loss: 0.2418 - accuracy: 0.5868\n",
            "Epoch 4/20\n",
            "54/54 [==============================] - 8s 148ms/step - loss: 0.2406 - accuracy: 0.5819\n",
            "Epoch 5/20\n",
            "54/54 [==============================] - 8s 148ms/step - loss: 0.2391 - accuracy: 0.5985\n",
            "Epoch 6/20\n",
            "54/54 [==============================] - 8s 147ms/step - loss: 0.2401 - accuracy: 0.5851\n",
            "Epoch 7/20\n",
            "54/54 [==============================] - 8s 147ms/step - loss: 0.2395 - accuracy: 0.5743\n",
            "Epoch 8/20\n",
            "54/54 [==============================] - 8s 147ms/step - loss: 0.2429 - accuracy: 0.5809\n",
            "Epoch 9/20\n",
            "54/54 [==============================] - 8s 147ms/step - loss: 0.2390 - accuracy: 0.5977\n",
            "Epoch 10/20\n",
            "54/54 [==============================] - 8s 149ms/step - loss: 0.2377 - accuracy: 0.6112\n",
            "Epoch 11/20\n",
            "54/54 [==============================] - 8s 147ms/step - loss: 0.2392 - accuracy: 0.5936\n",
            "Epoch 12/20\n",
            "54/54 [==============================] - 8s 147ms/step - loss: 0.2389 - accuracy: 0.5913\n",
            "Epoch 13/20\n",
            "54/54 [==============================] - 8s 149ms/step - loss: 0.2391 - accuracy: 0.5922\n",
            "Epoch 14/20\n",
            "54/54 [==============================] - 8s 148ms/step - loss: 0.2419 - accuracy: 0.5918\n",
            "Epoch 15/20\n",
            "54/54 [==============================] - 8s 148ms/step - loss: 0.2380 - accuracy: 0.5952\n",
            "Epoch 16/20\n",
            "54/54 [==============================] - 8s 147ms/step - loss: 0.2375 - accuracy: 0.5918\n",
            "Epoch 17/20\n",
            "54/54 [==============================] - 8s 147ms/step - loss: 0.2416 - accuracy: 0.5876\n",
            "Epoch 18/20\n",
            "54/54 [==============================] - 8s 147ms/step - loss: 0.2369 - accuracy: 0.5909\n",
            "Epoch 19/20\n",
            "54/54 [==============================] - 8s 147ms/step - loss: 0.2362 - accuracy: 0.5971\n",
            "Epoch 20/20\n",
            "54/54 [==============================] - 8s 148ms/step - loss: 0.2387 - accuracy: 0.6087\n"
          ],
          "name": "stdout"
        },
        {
          "output_type": "execute_result",
          "data": {
            "text/plain": [
              "<keras.callbacks.History at 0x7f423c3eddd0>"
            ]
          },
          "metadata": {
            "tags": []
          },
          "execution_count": 17
        }
      ]
    },
    {
      "cell_type": "code",
      "metadata": {
        "id": "rD9a7j6rvEVv",
        "colab": {
          "base_uri": "https://localhost:8080/"
        },
        "outputId": "f90d18ab-bdad-43f8-8d2e-5fef51049e24"
      },
      "source": [
        "pip install ta"
      ],
      "execution_count": null,
      "outputs": [
        {
          "output_type": "stream",
          "text": [
            "Requirement already satisfied: ta in /usr/local/lib/python3.7/dist-packages (0.7.0)\n",
            "Requirement already satisfied: pandas in /usr/local/lib/python3.7/dist-packages (from ta) (1.1.5)\n",
            "Requirement already satisfied: numpy in /usr/local/lib/python3.7/dist-packages (from ta) (1.19.5)\n",
            "Requirement already satisfied: python-dateutil>=2.7.3 in /usr/local/lib/python3.7/dist-packages (from pandas->ta) (2.8.1)\n",
            "Requirement already satisfied: pytz>=2017.2 in /usr/local/lib/python3.7/dist-packages (from pandas->ta) (2018.9)\n",
            "Requirement already satisfied: six>=1.5 in /usr/local/lib/python3.7/dist-packages (from python-dateutil>=2.7.3->pandas->ta) (1.15.0)\n"
          ],
          "name": "stdout"
        }
      ]
    },
    {
      "cell_type": "markdown",
      "metadata": {
        "id": "6rV1masInqOq"
      },
      "source": [
        "<div style=\"text-align:right\"> .در این قسمت دو اندیکاتور را به عنوان ویژگی به مجموعه داده ها اضافه کردیم.همان گونه ک مشاهده می کنید اضافه کردن دو اندیکاتور هم می توان اثر افزایشی هرچند اندکی بر دقت داشته باشد</div>"
      ]
    },
    {
      "cell_type": "code",
      "metadata": {
        "colab": {
          "base_uri": "https://localhost:8080/",
          "height": 419
        },
        "id": "8fIDaZ48W15M",
        "outputId": "19910178-da5c-46bf-b6a9-7c422298f29a"
      },
      "source": [
        "import ta\n",
        "\n",
        "def add_Indicators_data(data): # data is a pandas.DataFrame\n",
        "    data[\"CCI\"] = ta.trend.CCIIndicator(high = data[\"High\"], low = data[\"Low\"], close = data[\"Price\"], window = 20, constant = 0.015, fillna = True).cci() \n",
        "    data[\"SMA\"] = ta.trend.sma_indicator(data[\"Price\"], window=53, fillna=True)\n",
        "    return data\n",
        "\n",
        "indicators = add_Indicators_data(data).drop([\"Change %\"], axis=1)\n",
        "indicators"
      ],
      "execution_count": null,
      "outputs": [
        {
          "output_type": "execute_result",
          "data": {
            "text/html": [
              "<div>\n",
              "<style scoped>\n",
              "    .dataframe tbody tr th:only-of-type {\n",
              "        vertical-align: middle;\n",
              "    }\n",
              "\n",
              "    .dataframe tbody tr th {\n",
              "        vertical-align: top;\n",
              "    }\n",
              "\n",
              "    .dataframe thead th {\n",
              "        text-align: right;\n",
              "    }\n",
              "</style>\n",
              "<table border=\"1\" class=\"dataframe\">\n",
              "  <thead>\n",
              "    <tr style=\"text-align: right;\">\n",
              "      <th></th>\n",
              "      <th>Date</th>\n",
              "      <th>Price</th>\n",
              "      <th>Open</th>\n",
              "      <th>High</th>\n",
              "      <th>Low</th>\n",
              "      <th>Vol.</th>\n",
              "      <th>CCI</th>\n",
              "      <th>SMA</th>\n",
              "    </tr>\n",
              "  </thead>\n",
              "  <tbody>\n",
              "    <tr>\n",
              "      <th>0</th>\n",
              "      <td>2021-05-01</td>\n",
              "      <td>57807.1</td>\n",
              "      <td>57719.1</td>\n",
              "      <td>58449.4</td>\n",
              "      <td>57029.5</td>\n",
              "      <td>63410</td>\n",
              "      <td>0.000000</td>\n",
              "      <td>57807.100000</td>\n",
              "    </tr>\n",
              "    <tr>\n",
              "      <th>1</th>\n",
              "      <td>2021-04-30</td>\n",
              "      <td>57720.3</td>\n",
              "      <td>53562.3</td>\n",
              "      <td>57925.6</td>\n",
              "      <td>53088.7</td>\n",
              "      <td>103740</td>\n",
              "      <td>-66.666667</td>\n",
              "      <td>57763.700000</td>\n",
              "    </tr>\n",
              "    <tr>\n",
              "      <th>2</th>\n",
              "      <td>2021-04-29</td>\n",
              "      <td>53560.8</td>\n",
              "      <td>54838.6</td>\n",
              "      <td>55173.7</td>\n",
              "      <td>52400.0</td>\n",
              "      <td>83900</td>\n",
              "      <td>-100.000000</td>\n",
              "      <td>56362.733333</td>\n",
              "    </tr>\n",
              "    <tr>\n",
              "      <th>3</th>\n",
              "      <td>2021-04-28</td>\n",
              "      <td>54841.4</td>\n",
              "      <td>55036.0</td>\n",
              "      <td>56419.9</td>\n",
              "      <td>53876.4</td>\n",
              "      <td>86960</td>\n",
              "      <td>-32.773700</td>\n",
              "      <td>55982.400000</td>\n",
              "    </tr>\n",
              "    <tr>\n",
              "      <th>4</th>\n",
              "      <td>2021-04-27</td>\n",
              "      <td>55036.5</td>\n",
              "      <td>54011.1</td>\n",
              "      <td>55427.8</td>\n",
              "      <td>53345.0</td>\n",
              "      <td>84080</td>\n",
              "      <td>-47.407194</td>\n",
              "      <td>55793.220000</td>\n",
              "    </tr>\n",
              "    <tr>\n",
              "      <th>...</th>\n",
              "      <td>...</td>\n",
              "      <td>...</td>\n",
              "      <td>...</td>\n",
              "      <td>...</td>\n",
              "      <td>...</td>\n",
              "      <td>...</td>\n",
              "      <td>...</td>\n",
              "      <td>...</td>\n",
              "    </tr>\n",
              "    <tr>\n",
              "      <th>3936</th>\n",
              "      <td>2010-07-22</td>\n",
              "      <td>0.1</td>\n",
              "      <td>0.1</td>\n",
              "      <td>0.1</td>\n",
              "      <td>0.1</td>\n",
              "      <td>2160</td>\n",
              "      <td>35.087719</td>\n",
              "      <td>0.100000</td>\n",
              "    </tr>\n",
              "    <tr>\n",
              "      <th>3937</th>\n",
              "      <td>2010-07-21</td>\n",
              "      <td>0.1</td>\n",
              "      <td>0.1</td>\n",
              "      <td>0.1</td>\n",
              "      <td>0.1</td>\n",
              "      <td>580</td>\n",
              "      <td>35.087719</td>\n",
              "      <td>0.100000</td>\n",
              "    </tr>\n",
              "    <tr>\n",
              "      <th>3938</th>\n",
              "      <td>2010-07-20</td>\n",
              "      <td>0.1</td>\n",
              "      <td>0.1</td>\n",
              "      <td>0.1</td>\n",
              "      <td>0.1</td>\n",
              "      <td>260</td>\n",
              "      <td>35.087719</td>\n",
              "      <td>0.100000</td>\n",
              "    </tr>\n",
              "    <tr>\n",
              "      <th>3939</th>\n",
              "      <td>2010-07-19</td>\n",
              "      <td>0.1</td>\n",
              "      <td>0.1</td>\n",
              "      <td>0.1</td>\n",
              "      <td>0.1</td>\n",
              "      <td>570</td>\n",
              "      <td>35.087719</td>\n",
              "      <td>0.100000</td>\n",
              "    </tr>\n",
              "    <tr>\n",
              "      <th>3940</th>\n",
              "      <td>2010-07-18</td>\n",
              "      <td>0.1</td>\n",
              "      <td>0.0</td>\n",
              "      <td>0.1</td>\n",
              "      <td>0.1</td>\n",
              "      <td>80</td>\n",
              "      <td>35.087719</td>\n",
              "      <td>0.100000</td>\n",
              "    </tr>\n",
              "  </tbody>\n",
              "</table>\n",
              "<p>3941 rows × 8 columns</p>\n",
              "</div>"
            ],
            "text/plain": [
              "            Date    Price     Open  ...    Vol.         CCI           SMA\n",
              "0     2021-05-01  57807.1  57719.1  ...   63410    0.000000  57807.100000\n",
              "1     2021-04-30  57720.3  53562.3  ...  103740  -66.666667  57763.700000\n",
              "2     2021-04-29  53560.8  54838.6  ...   83900 -100.000000  56362.733333\n",
              "3     2021-04-28  54841.4  55036.0  ...   86960  -32.773700  55982.400000\n",
              "4     2021-04-27  55036.5  54011.1  ...   84080  -47.407194  55793.220000\n",
              "...          ...      ...      ...  ...     ...         ...           ...\n",
              "3936  2010-07-22      0.1      0.1  ...    2160   35.087719      0.100000\n",
              "3937  2010-07-21      0.1      0.1  ...     580   35.087719      0.100000\n",
              "3938  2010-07-20      0.1      0.1  ...     260   35.087719      0.100000\n",
              "3939  2010-07-19      0.1      0.1  ...     570   35.087719      0.100000\n",
              "3940  2010-07-18      0.1      0.0  ...      80   35.087719      0.100000\n",
              "\n",
              "[3941 rows x 8 columns]"
            ]
          },
          "metadata": {
            "tags": []
          },
          "execution_count": 6
        }
      ]
    },
    {
      "cell_type": "code",
      "metadata": {
        "id": "yAI0ISNvYhLv"
      },
      "source": [
        "data_test = indicators.iloc[:486].to_numpy()\n",
        "data_train = indicators.iloc[486:].to_numpy()\n",
        "x_train, y_train = data_train[1:, 2:], data_train[:-1, 1]\n",
        "x_test, y_test = data_test[1:, 2:], data_test[:-1, 1]"
      ],
      "execution_count": null,
      "outputs": []
    },
    {
      "cell_type": "code",
      "metadata": {
        "colab": {
          "base_uri": "https://localhost:8080/"
        },
        "id": "bVt8EUj3ZEtO",
        "outputId": "d964c6cc-a817-467e-edd7-fdc3b449c219"
      },
      "source": [
        "LinearR = LinearRegression().fit(x_train, y_train)\n",
        "y_pred = LinearR.predict(x_test)\n",
        "print( \"1.LinearRegression accuracy = \", np.mean(np.abs(y_pred-y_test)/y_test < 0.05)*100 )\n",
        "print(\"  LinearRegression RMSE = \", mean_squared_error(y_pred, y_test))\n",
        "\n",
        "\n",
        "SVM = make_pipeline(StandardScaler(), SVR(kernel='linear',C=1000)).fit(x_train, y_train)\n",
        "y_pred = SVM.predict(x_test)\n",
        "print( \"\\n2.SVM accuracy = \", np.mean(np.abs(y_pred-y_test)/y_test < 0.05)*100 )\n",
        "print(\"  SVM RMSE = \", mean_squared_error(y_pred, y_test))\n",
        "\n",
        "\n",
        "KNR = KNeighborsRegressor(n_neighbors= 5).fit(x_train, y_train)\n",
        "y_pred = KNR.predict(x_test)\n",
        "print( \"\\n3.KNeighborsRegressor accuracy = \", np.mean(np.abs(y_pred-y_test)/y_test < 0.05)*100 )\n",
        "print(\"  KNeighborsRegressor RMSE = \", mean_squared_error(y_pred, y_test))\n",
        "\n",
        "\n",
        "RFR = RandomForestRegressor(max_depth= 5).fit(x_train, y_train)\n",
        "y_pred = RFR.predict(x_test)\n",
        "print( \"\\n4.RandomForestRegressor accuracy = \", np.mean(np.abs(y_pred-y_test)/y_test < 0.05)*100 )\n",
        "print(\"  RandomForestRegressor RMSE = \", mean_squared_error(y_pred, y_test))\n",
        "\n",
        "\n",
        "DTR = DecisionTreeRegressor().fit(x_train, y_train)\n",
        "y_pred = DTR.predict(x_test)\n",
        "print( \"\\n5.DecisionTreeRegressor accuracy = \", np.mean(np.abs(y_pred-y_test)/y_test < 0.05)*100 )\n",
        "print(\"  DecisionTreeRegressor RMSE = \", mean_squared_error(y_pred, y_test))\n",
        "\n",
        "\n",
        "SGDR = make_pipeline(StandardScaler(), SGDRegressor(max_iter=1000, tol=1e-3)).fit(x_train, y_train)\n",
        "y_pred = SGDR.predict(x_test)\n",
        "print( \"\\n6.SGDRegressor accuracy = \", np.mean(np.abs(y_pred-y_test)/y_test < 0.05)*100 )\n",
        "print(\"  SGDRegressor RMSE = \", mean_squared_error(y_pred, y_test))\n",
        "\n",
        "\n",
        "isoR = IsotonicRegression().fit(x_train[:, 0], y_train)\n",
        "y_pred = isoR.predict(x_test[:, 0])\n",
        "print( \"\\n7.IsotonicRegression accuracy = \", np.mean(np.abs(y_pred-y_test)/y_test < 0.05)*100 )\n",
        "# print(\"  IsotonicRegression RMSE = \", mean_squared_error(y_pred, y_test))\n",
        "\n",
        "\n",
        "kernel = DotProduct() + WhiteKernel()\n",
        "GPR = GaussianProcessRegressor(kernel=kernel, random_state=0).fit(x_train, y_train)\n",
        "y_pred = GPR.predict(x_test)\n",
        "print( \"\\n8.GaussianProcessRegressor accuracy = \", np.mean(np.abs(y_pred-y_test)/y_test < 0.05)*100 )\n",
        "print(\"  GaussianProcessRegressor RMSE = \", mean_squared_error(y_pred, y_test))\n",
        "\n",
        "\n",
        "MLPR = MLPRegressor(random_state=1, max_iter=500).fit(x_train, y_train)\n",
        "y_pred = MLPR.predict(x_test)\n",
        "print( \"\\n9.MLPRegressor accuracy = \", np.mean(np.abs(y_pred-y_test)/y_test < 0.05)*100 )\n",
        "print(\"  MLPRegressor RMSE = \", mean_squared_error(y_pred, y_test))\n",
        "\n",
        "\n",
        "RCVR = RidgeCV().fit(x_train, y_train)\n",
        "y_pred = RCVR.predict(x_test)\n",
        "print( \"\\n10.Ridge with Cross Validation accuracy = \", np.mean(np.abs(y_pred-y_test)/y_test < 0.05)*100)\n",
        "print(\"  Ridge with Cross Validation RMSE = \", mean_squared_error(y_pred, y_test))\n"
      ],
      "execution_count": null,
      "outputs": [
        {
          "output_type": "stream",
          "text": [
            "1.LinearRegression accuracy =  83.29896907216495\n",
            "  LinearRegression RMSE =  1328557.80847682\n",
            "\n",
            "2.SVM accuracy =  83.29896907216495\n",
            "  SVM RMSE =  1345198.342708777\n",
            "\n",
            "3.KNeighborsRegressor accuracy =  21.030927835051546\n",
            "  KNeighborsRegressor RMSE =  285444396.8386928\n",
            "\n",
            "4.RandomForestRegressor accuracy =  58.35051546391753\n",
            "  RandomForestRegressor RMSE =  254660594.2809811\n",
            "\n",
            "5.DecisionTreeRegressor accuracy =  32.78350515463917\n",
            "  DecisionTreeRegressor RMSE =  283305788.13247424\n",
            "\n",
            "6.SGDRegressor accuracy =  80.82474226804123\n",
            "  SGDRegressor RMSE =  1490798.8585655869\n",
            "\n",
            "7.IsotonicRegression accuracy =  52.57731958762887\n",
            "\n",
            "8.GaussianProcessRegressor accuracy =  83.50515463917526\n",
            "  GaussianProcessRegressor RMSE =  1328674.038116377\n",
            "\n",
            "9.MLPRegressor accuracy =  76.08247422680412\n",
            "  MLPRegressor RMSE =  1767012.9395031224\n",
            "\n",
            "10.Ridge with Cross Validation accuracy =  83.71134020618557\n",
            "  Ridge with Cross Validation RMSE =  1329805.0675473476\n"
          ],
          "name": "stdout"
        }
      ]
    },
    {
      "cell_type": "code",
      "metadata": {
        "id": "Pu5HrJJcaKrz"
      },
      "source": [
        ""
      ],
      "execution_count": null,
      "outputs": []
    }
  ]
}